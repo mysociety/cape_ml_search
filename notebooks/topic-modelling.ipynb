{
 "cells": [
  {
   "cell_type": "code",
   "execution_count": 1,
   "metadata": {},
   "outputs": [
    {
     "name": "stdout",
     "output_type": "stream",
     "text": [
      "/bin/bash: /opt/anaconda/envs/Python3/lib/libtinfo.so.6: no version information available (required by /bin/bash)\n",
      "\u001b[1m\n",
      "         .:::.     .::.       \n",
      "        ....yy:    .yy.       \n",
      "        :.  .yy.    y.        \n",
      "             :y:   .:         \n",
      "             .yy  .:          \n",
      "              yy..:           \n",
      "              :y:.            \n",
      "              .y.             \n",
      "             .:.              \n",
      "        ....:.                \n",
      "        :::.                  \n",
      "\u001b[0;33m\n",
      "• Project files and data should be stored in /project. This is shared among everyone\n",
      "  in the project.\n",
      "• Personal files and configuration should be stored in /home/faculty.\n",
      "• Files outside /project and /home/faculty will be lost when this server is terminated.\n",
      "• Create custom environments to setup your servers reproducibly.\n",
      "\u001b[0m\n",
      "bash: /opt/anaconda/envs/Python3/lib/libtinfo.so.6: no version information available (required by bash)\n",
      "Collecting mysoc_dataset\n",
      "  Using cached mysoc_dataset-0.3.0-py3-none-any.whl (9.3 kB)\n",
      "Collecting spacy\n",
      "  Using cached spacy-3.5.0-cp39-cp39-manylinux_2_17_x86_64.manylinux2014_x86_64.whl (6.6 MB)\n",
      "Requirement already satisfied: nltk in /opt/anaconda/envs/Python3/lib/python3.9/site-packages (from -r requirements.txt (line 5)) (3.7)\n",
      "Collecting sentence-transformers\n",
      "  Using cached sentence_transformers-2.2.2-py3-none-any.whl\n",
      "Collecting pytextrank\n",
      "  Using cached pytextrank-3.2.4-py3-none-any.whl (30 kB)\n",
      "Requirement already satisfied: pandas>=1.3.5 in /opt/anaconda/envs/Python3/lib/python3.9/site-packages (from mysoc_dataset->-r requirements.txt (line 3)) (1.5.1)\n",
      "Collecting rich<13.0.0,>=12.5.1\n",
      "  Using cached rich-12.6.0-py3-none-any.whl (237 kB)\n",
      "Collecting rich-click<2.0.0,>=1.5.2\n",
      "  Using cached rich_click-1.6.1-py3-none-any.whl (19 kB)\n",
      "Collecting cymem<2.1.0,>=2.0.2\n",
      "  Using cached cymem-2.0.7-cp39-cp39-manylinux_2_17_x86_64.manylinux2014_x86_64.whl (35 kB)\n",
      "Collecting preshed<3.1.0,>=3.0.2\n",
      "  Using cached preshed-3.0.8-cp39-cp39-manylinux_2_5_x86_64.manylinux1_x86_64.manylinux_2_17_x86_64.manylinux2014_x86_64.whl (128 kB)\n",
      "Collecting pathy>=0.10.0\n",
      "  Using cached pathy-0.10.1-py3-none-any.whl (48 kB)\n",
      "Requirement already satisfied: setuptools in /opt/anaconda/envs/Python3/lib/python3.9/site-packages (from spacy->-r requirements.txt (line 4)) (65.5.0)\n",
      "Collecting typer<0.8.0,>=0.3.0\n",
      "  Using cached typer-0.7.0-py3-none-any.whl (38 kB)\n",
      "Collecting murmurhash<1.1.0,>=0.28.0\n",
      "  Using cached murmurhash-1.0.9-cp39-cp39-manylinux_2_5_x86_64.manylinux1_x86_64.manylinux_2_17_x86_64.manylinux2014_x86_64.whl (21 kB)\n",
      "Collecting srsly<3.0.0,>=2.4.3\n",
      "  Using cached srsly-2.4.6-cp39-cp39-manylinux_2_17_x86_64.manylinux2014_x86_64.whl (491 kB)\n",
      "Collecting spacy-loggers<2.0.0,>=1.0.0\n",
      "  Using cached spacy_loggers-1.0.4-py3-none-any.whl (11 kB)\n",
      "Collecting langcodes<4.0.0,>=3.2.0\n",
      "  Using cached langcodes-3.3.0-py3-none-any.whl (181 kB)\n",
      "Requirement already satisfied: packaging>=20.0 in /opt/anaconda/envs/Python3/lib/python3.9/site-packages (from spacy->-r requirements.txt (line 4)) (21.3)\n",
      "Collecting wasabi<1.2.0,>=0.9.1\n",
      "  Using cached wasabi-1.1.1-py3-none-any.whl (27 kB)\n",
      "Requirement already satisfied: numpy>=1.15.0 in /opt/anaconda/envs/Python3/lib/python3.9/site-packages (from spacy->-r requirements.txt (line 4)) (1.21.5)\n",
      "Requirement already satisfied: jinja2 in /opt/anaconda/envs/Python3/lib/python3.9/site-packages (from spacy->-r requirements.txt (line 4)) (3.1.2)\n",
      "Collecting catalogue<2.1.0,>=2.0.6\n",
      "  Using cached catalogue-2.0.8-py3-none-any.whl (17 kB)\n",
      "Requirement already satisfied: requests<3.0.0,>=2.13.0 in /opt/anaconda/envs/Python3/lib/python3.9/site-packages (from spacy->-r requirements.txt (line 4)) (2.28.1)\n",
      "Collecting thinc<8.2.0,>=8.1.0\n",
      "  Using cached thinc-8.1.8-cp39-cp39-manylinux_2_17_x86_64.manylinux2014_x86_64.whl (922 kB)\n",
      "Requirement already satisfied: smart-open<7.0.0,>=5.2.1 in /opt/anaconda/envs/Python3/lib/python3.9/site-packages (from spacy->-r requirements.txt (line 4)) (5.2.1)\n",
      "Collecting spacy-legacy<3.1.0,>=3.0.11\n",
      "  Using cached spacy_legacy-3.0.12-py2.py3-none-any.whl (29 kB)\n",
      "Requirement already satisfied: tqdm<5.0.0,>=4.38.0 in /opt/anaconda/envs/Python3/lib/python3.9/site-packages (from spacy->-r requirements.txt (line 4)) (4.64.1)\n",
      "Collecting pydantic!=1.8,!=1.8.1,<1.11.0,>=1.7.4\n",
      "  Using cached pydantic-1.10.5-cp39-cp39-manylinux_2_17_x86_64.manylinux2014_x86_64.whl (3.2 MB)\n",
      "Requirement already satisfied: joblib in /opt/anaconda/envs/Python3/lib/python3.9/site-packages (from nltk->-r requirements.txt (line 5)) (1.1.1)\n",
      "Requirement already satisfied: regex>=2021.8.3 in /opt/anaconda/envs/Python3/lib/python3.9/site-packages (from nltk->-r requirements.txt (line 5)) (2022.7.9)\n",
      "Requirement already satisfied: click in /opt/anaconda/envs/Python3/lib/python3.9/site-packages (from nltk->-r requirements.txt (line 5)) (8.0.4)\n",
      "Collecting huggingface-hub>=0.4.0\n",
      "  Using cached huggingface_hub-0.12.1-py3-none-any.whl (190 kB)\n",
      "Collecting transformers<5.0.0,>=4.6.0\n",
      "  Using cached transformers-4.26.1-py3-none-any.whl (6.3 MB)\n",
      "Collecting torchvision\n",
      "  Using cached torchvision-0.14.1-cp39-cp39-manylinux1_x86_64.whl (24.2 MB)\n",
      "Collecting sentencepiece\n",
      "  Using cached sentencepiece-0.1.97-cp39-cp39-manylinux_2_17_x86_64.manylinux2014_x86_64.whl (1.3 MB)\n",
      "Requirement already satisfied: scipy in /opt/anaconda/envs/Python3/lib/python3.9/site-packages (from sentence-transformers->-r requirements.txt (line 6)) (1.7.3)\n",
      "Requirement already satisfied: scikit-learn in /opt/anaconda/envs/Python3/lib/python3.9/site-packages (from sentence-transformers->-r requirements.txt (line 6)) (1.0.2)\n",
      "Collecting torch>=1.6.0\n",
      "  Using cached torch-1.13.1-cp39-cp39-manylinux1_x86_64.whl (887.4 MB)\n",
      "Requirement already satisfied: networkx[default]>=2.6 in /opt/anaconda/envs/Python3/lib/python3.9/site-packages (from pytextrank->-r requirements.txt (line 7)) (2.8.4)\n",
      "Requirement already satisfied: graphviz>=0.13 in /opt/anaconda/envs/Python3/lib/python3.9/site-packages (from pytextrank->-r requirements.txt (line 7)) (0.20.1)\n",
      "Requirement already satisfied: pygments>=2.7.4 in /opt/anaconda/envs/Python3/lib/python3.9/site-packages (from pytextrank->-r requirements.txt (line 7)) (2.11.2)\n",
      "Collecting icecream>=2.1\n",
      "  Using cached icecream-2.1.3-py2.py3-none-any.whl (8.4 kB)\n",
      "Requirement already satisfied: pyyaml>=5.1 in /opt/anaconda/envs/Python3/lib/python3.9/site-packages (from huggingface-hub>=0.4.0->sentence-transformers->-r requirements.txt (line 6)) (6.0)\n",
      "Requirement already satisfied: typing-extensions>=3.7.4.3 in /opt/anaconda/envs/Python3/lib/python3.9/site-packages (from huggingface-hub>=0.4.0->sentence-transformers->-r requirements.txt (line 6)) (4.4.0)\n",
      "Requirement already satisfied: filelock in /opt/anaconda/envs/Python3/lib/python3.9/site-packages (from huggingface-hub>=0.4.0->sentence-transformers->-r requirements.txt (line 6)) (3.6.0)\n",
      "Requirement already satisfied: asttokens>=2.0.1 in /opt/anaconda/envs/Python3/lib/python3.9/site-packages (from icecream>=2.1->pytextrank->-r requirements.txt (line 7)) (2.0.5)\n",
      "Requirement already satisfied: colorama>=0.3.9 in /opt/anaconda/envs/Python3/lib/python3.9/site-packages (from icecream>=2.1->pytextrank->-r requirements.txt (line 7)) (0.4.5)\n",
      "Requirement already satisfied: executing>=0.3.1 in /opt/anaconda/envs/Python3/lib/python3.9/site-packages (from icecream>=2.1->pytextrank->-r requirements.txt (line 7)) (0.8.3)\n",
      "Collecting scipy\n",
      "  Using cached scipy-1.10.1-cp39-cp39-manylinux_2_17_x86_64.manylinux2014_x86_64.whl (34.5 MB)\n",
      "Requirement already satisfied: matplotlib>=3.4 in /opt/anaconda/envs/Python3/lib/python3.9/site-packages (from networkx[default]>=2.6->pytextrank->-r requirements.txt (line 7)) (3.5.3)\n",
      "Requirement already satisfied: pyparsing!=3.0.5,>=2.0.2 in /opt/anaconda/envs/Python3/lib/python3.9/site-packages (from packaging>=20.0->spacy->-r requirements.txt (line 4)) (3.0.9)\n",
      "Requirement already satisfied: python-dateutil>=2.8.1 in /opt/anaconda/envs/Python3/lib/python3.9/site-packages (from pandas>=1.3.5->mysoc_dataset->-r requirements.txt (line 3)) (2.8.2)\n",
      "Requirement already satisfied: pytz>=2020.1 in /opt/anaconda/envs/Python3/lib/python3.9/site-packages (from pandas>=1.3.5->mysoc_dataset->-r requirements.txt (line 3)) (2022.1)\n",
      "Requirement already satisfied: idna<4,>=2.5 in /opt/anaconda/envs/Python3/lib/python3.9/site-packages (from requests<3.0.0,>=2.13.0->spacy->-r requirements.txt (line 4)) (3.4)\n",
      "Requirement already satisfied: certifi>=2017.4.17 in /opt/anaconda/envs/Python3/lib/python3.9/site-packages (from requests<3.0.0,>=2.13.0->spacy->-r requirements.txt (line 4)) (2022.9.24)\n",
      "Requirement already satisfied: urllib3<1.27,>=1.21.1 in /opt/anaconda/envs/Python3/lib/python3.9/site-packages (from requests<3.0.0,>=2.13.0->spacy->-r requirements.txt (line 4)) (1.26.12)\n",
      "Requirement already satisfied: charset-normalizer<3,>=2 in /opt/anaconda/envs/Python3/lib/python3.9/site-packages (from requests<3.0.0,>=2.13.0->spacy->-r requirements.txt (line 4)) (2.0.4)\n"
     ]
    },
    {
     "name": "stdout",
     "output_type": "stream",
     "text": [
      "Collecting commonmark<0.10.0,>=0.9.0\n",
      "  Using cached commonmark-0.9.1-py2.py3-none-any.whl (51 kB)\n",
      "Collecting blis<0.8.0,>=0.7.8\n",
      "  Using cached blis-0.7.9-cp39-cp39-manylinux_2_17_x86_64.manylinux2014_x86_64.whl (10.2 MB)\n",
      "Collecting confection<1.0.0,>=0.0.1\n",
      "  Using cached confection-0.0.4-py3-none-any.whl (32 kB)\n",
      "Collecting nvidia-cuda-runtime-cu11==11.7.99\n",
      "  Using cached nvidia_cuda_runtime_cu11-11.7.99-py3-none-manylinux1_x86_64.whl (849 kB)\n",
      "Collecting nvidia-cuda-nvrtc-cu11==11.7.99\n",
      "  Using cached nvidia_cuda_nvrtc_cu11-11.7.99-2-py3-none-manylinux1_x86_64.whl (21.0 MB)\n",
      "Collecting nvidia-cudnn-cu11==8.5.0.96\n",
      "  Using cached nvidia_cudnn_cu11-8.5.0.96-2-py3-none-manylinux1_x86_64.whl (557.1 MB)\n",
      "Collecting nvidia-cublas-cu11==11.10.3.66\n",
      "  Using cached nvidia_cublas_cu11-11.10.3.66-py3-none-manylinux1_x86_64.whl (317.1 MB)\n",
      "Requirement already satisfied: wheel in /opt/anaconda/envs/Python3/lib/python3.9/site-packages (from nvidia-cublas-cu11==11.10.3.66->torch>=1.6.0->sentence-transformers->-r requirements.txt (line 6)) (0.37.1)\n",
      "Collecting tokenizers!=0.11.3,<0.14,>=0.11.1\n",
      "  Using cached tokenizers-0.13.2-cp39-cp39-manylinux_2_17_x86_64.manylinux2014_x86_64.whl (7.6 MB)\n",
      "Requirement already satisfied: MarkupSafe>=2.0 in /opt/anaconda/envs/Python3/lib/python3.9/site-packages (from jinja2->spacy->-r requirements.txt (line 4)) (2.1.1)\n",
      "Requirement already satisfied: threadpoolctl>=2.0.0 in /opt/anaconda/envs/Python3/lib/python3.9/site-packages (from scikit-learn->sentence-transformers->-r requirements.txt (line 6)) (2.2.0)\n",
      "Requirement already satisfied: pillow!=8.3.*,>=5.3.0 in /opt/anaconda/envs/Python3/lib/python3.9/site-packages (from torchvision->sentence-transformers->-r requirements.txt (line 6)) (9.2.0)\n",
      "Requirement already satisfied: six in /opt/anaconda/envs/Python3/lib/python3.9/site-packages (from asttokens>=2.0.1->icecream>=2.1->pytextrank->-r requirements.txt (line 7)) (1.16.0)\n",
      "Requirement already satisfied: cycler>=0.10 in /opt/anaconda/envs/Python3/lib/python3.9/site-packages (from matplotlib>=3.4->networkx[default]>=2.6->pytextrank->-r requirements.txt (line 7)) (0.11.0)\n",
      "Requirement already satisfied: kiwisolver>=1.0.1 in /opt/anaconda/envs/Python3/lib/python3.9/site-packages (from matplotlib>=3.4->networkx[default]>=2.6->pytextrank->-r requirements.txt (line 7)) (1.4.2)\n",
      "Requirement already satisfied: fonttools>=4.22.0 in /opt/anaconda/envs/Python3/lib/python3.9/site-packages (from matplotlib>=3.4->networkx[default]>=2.6->pytextrank->-r requirements.txt (line 7)) (4.25.0)\n",
      "Installing collected packages: tokenizers, sentencepiece, cymem, commonmark, wasabi, typer, spacy-loggers, spacy-legacy, scipy, rich, pydantic, nvidia-cuda-runtime-cu11, nvidia-cuda-nvrtc-cu11, nvidia-cublas-cu11, murmurhash, langcodes, catalogue, blis, srsly, rich-click, preshed, pathy, nvidia-cudnn-cu11, icecream, huggingface-hub, transformers, torch, mysoc_dataset, confection, torchvision, thinc, spacy, sentence-transformers, pytextrank\n",
      "  Attempting uninstall: scipy\n",
      "    Found existing installation: scipy 1.7.3\n",
      "    Uninstalling scipy-1.7.3:\n",
      "      Successfully uninstalled scipy-1.7.3\n",
      "Successfully installed blis-0.7.9 catalogue-2.0.8 commonmark-0.9.1 confection-0.0.4 cymem-2.0.7 huggingface-hub-0.12.1 icecream-2.1.3 langcodes-3.3.0 murmurhash-1.0.9 mysoc_dataset-0.3.0 nvidia-cublas-cu11-11.10.3.66 nvidia-cuda-nvrtc-cu11-11.7.99 nvidia-cuda-runtime-cu11-11.7.99 nvidia-cudnn-cu11-8.5.0.96 pathy-0.10.1 preshed-3.0.8 pydantic-1.10.5 pytextrank-3.2.4 rich-12.6.0 rich-click-1.6.1 scipy-1.10.1 sentence-transformers-2.2.2 sentencepiece-0.1.97 spacy-3.5.0 spacy-legacy-3.0.12 spacy-loggers-1.0.4 srsly-2.4.6 thinc-8.1.8 tokenizers-0.13.2 torch-1.13.1 torchvision-0.14.1 transformers-4.26.1 typer-0.7.0 wasabi-1.1.1\n"
     ]
    }
   ],
   "source": [
    "!pip install -r requirements.txt"
   ]
  },
  {
   "cell_type": "code",
   "execution_count": 4,
   "metadata": {},
   "outputs": [],
   "source": [
    "import faculty.datasets as datasets\n",
    "import matplotlib.pyplot as plt\n",
    "import nltk\n",
    "import numpy as np\n",
    "import pandas as pd\n",
    "import spacy\n",
    "import re\n",
    "from utils import clean2, is_pua\n",
    "from sentence_transformers import SentenceTransformer\n",
    "import pickle\n",
    "%matplotlib inline"
   ]
  },
  {
   "cell_type": "code",
   "execution_count": 19,
   "metadata": {},
   "outputs": [],
   "source": [
    "df = pd.read_excel('../data/raw/plans.xlsx')\n",
    "drop_cols = ['search_link','type','charset','unfound','credit','date_retrieved','time_period','scope','status',\n",
    "            'well_presented', 'baseline_analysis', 'notes', 'plan_path','file_type','website_url',\n",
    "            'authority_code', 'authority_type', 'wdtk_id',\n",
    "           'mapit_area_code', 'country', 'gss_code', 'county', 'region',\n",
    "           'population', 'unfound','credit','homepage_mention', 'dedicated_page',\n",
    "            'plan_due','title','title_checked','twitter_url','twitter_name','url','council']\n",
    "df = df.drop(drop_cols,axis=1)\n",
    "corpus = df[df['text'].notna()]"
   ]
  },
  {
   "cell_type": "markdown",
   "metadata": {
    "scrolled": false
   },
   "source": [
    "## cleaning"
   ]
  },
  {
   "cell_type": "code",
   "execution_count": 20,
   "metadata": {},
   "outputs": [
    {
     "name": "stderr",
     "output_type": "stream",
     "text": [
      "/tmp/ipykernel_121348/3369171658.py:1: SettingWithCopyWarning: \n",
      "A value is trying to be set on a copy of a slice from a DataFrame.\n",
      "Try using .loc[row_indexer,col_indexer] = value instead\n",
      "\n",
      "See the caveats in the documentation: https://pandas.pydata.org/pandas-docs/stable/user_guide/indexing.html#returning-a-view-versus-a-copy\n",
      "  corpus['text'] = corpus['text'].apply(clean2)\n"
     ]
    }
   ],
   "source": [
    "corpus['text'] = corpus['text'].apply(clean2)"
   ]
  },
  {
   "cell_type": "code",
   "execution_count": 21,
   "metadata": {},
   "outputs": [
    {
     "data": {
      "text/plain": [
       "'cabinet 18 march 2020 report of councillor joe orson leader of the council climate emergency recommendation to council approach to climate emergency action plan corporate priority corporate strategy 2020 to 2024 protect our climate and enhance our rural, natural environment. relevant ward member date of consultation with ward choose date member exempt information no key decision no subject to call in no not key decision 1 summary 1.1 melton borough council set up the climate emergency policy development group in july 2019 to develop an action plan for consideration by cabinet and council by april 2020. 1.2 an action plan structure and content has been agreed by the group and cabinets consideration of its approach is sought. 1.3 the proposal is to develop the activity on a progressive stage process as follows  scoping work  baseline analysis  decarbonisation pathways  target setting  action plans  monitoring and evaluation further detail on the content and intention of these stages is provided in the report below. cabinet report 1 climate emergency recommendation to council approach to climate emergency action plan 2 recommendation 2.1 that cabinet recommends to council agreement of the approach set out in paragraph 6.1 and 6.2. 3 reason for recommendations 3.1 the approach proposed would set out the short, medium and long term approach to the challenging target of becoming carbon neutral by 2030. 3.2 the report also makes arrangements for governance and oversight of the activity going forward, which is considered to be of great importance as it will permeate most, if not all, parts of the organisation and in order to keep all members informed of progress, recognising the status of the subject as a corporate priority. 4 options considered 4.1 the approach proposed is considered to relate closely to the councils management, leadership and overall governance structures. other models have been considered but are not considered to be sufficiently aligned. 5 background 5.1 the climate emergency policy development group, established in july 2019 has developed a series of suggested initiatives covering many aspects of the councils activity and extending into how we influence others  both agencies and the wider public economy e.g through planning powers. a meeting date has been set to invite stakeholders and experts to comment on our aspirations and invite them to share their knowledge and expertise. 5.2 the various initiatives considered have been prioritised using the principles of risk assessment to identify opportunities and their ease of implementation. 6 main considerations 6.1 discussion took place at the meeting of the policy development group in february regarding reporting back to cabinet and then council. a report structure and content has been agreed by the group and cabinets consideration of this approach is sought. scoping confirming what emissions will be covered by the programme  identification of scope 1 and 2 emissions but also scope 3 emissions from purchased goods and services as well as indirect transport related emission sources and waste  this draws from the groups deliberations so far and will be complemented by the stakeholder event. undertake a carbon baseline a comprehensive measurement of current carbon emissions on an organisational basis. examples of approaches cabinet report 2 climate emergency recommendation to council approach to climate emergency action plan from other locations and organisations have been sourced which demonstrate good practice and valuable insight. identify decarbonisation pathways use baseline data to set out options to decarbonise, considering what actions will be necessary and possible across the short, medium and long term including identification of budget implications. the policy development group will review officer plans to decarbonise in each area , to oversee judgements made on the approach suggested, the understanding of costs risks of the different options, and to consider whether plans are sufficiently ambitious and realistic, and how they can be funded. this should include milestones and timeframes to achieve ambitions to help forge action plans. target setting setting realistic targets and timetable for scope 1 and 2 emissions and, where required, separate targets for scope 3 emissions. develop action plans including roles and responsibilities and the necessary governance structures required to oversee the implementation of the plan. monitoring and evaluation  to receive progress reports from service areas via the climate change and environmental quality board, and to report progress on the overarching action plan to cabinet council on an annual basis as part of wider reporting on the corporate strategy. 6.2 members will be aware of the update on the deliberations of the policy development group as reported to council in december 2019. the proposed structure is intended to develop these and work them up, supplemented by any further initiatives identified, into a workable timetable of action in the short, medium and longer term, with associated targets for carbon reduction. the measures themselves are likely to permeate most, if not all, of the councils business and activity and the policy development group so far has identified measures within key themes. these themes are likely to form, or inform, the scope 1 and scope 2 areas referred to above as follows estate reduce plastic usage further e.g. small sachets for refreshments mbc practice in meeting rooms, plastic bin liners that are not biodegradable, green cleaning products etc. council housing over time, housing improvements to include low carbon carbon neutral materials, heating systems etc. build in to maintenance programmes consider use of estate and assets to provide exemplars of energy efficiency carbon neutral development investigate current status of investments, and the companies we use to see do we need to divest from carbon producing companies policy spd on design to develop approaches to energy efficient cabinet report 3 climate emergency recommendation to council approach to climate emergency action plan development and alternative power sources consider scope for further green planning policies such as water recycling upon review of local plan and other planning documents, to include carbon neutral policy requirements  encouragement of exemplar development consider the extent to which other planning policies may be compromised to achieve this regulatory, review scope and effectiveness policy in fuel use terms transport and increased use of local food suppliers travel mbc vehicles to be energy efficient or electric use of green fuels in council owned vehicles. recharging points on mbc estate encourage electric charging points around the borough investigate the government scheme on street residential charge point scheme investigate impact of increased volume of rural traffic on roads working with bus services to improve provision to rural areas to reduce need for personal transport. plastic and waste measures to promote recycling and reduce plastic in the environment. reduce waste to landfill reduce methane greenhouse gas emissions. air quality establish a monitoring system before mmdr finished, providing a baseline. encourage enhanced tree planning along route of mmdr flooding enhanced disaster planning strategy for the impact of future flooding events identification of vulnerable properties pro active prior warning to residents based on weather warning and flood alerts publishing of contact information for assistance further recruitment of flood wardens additional localised sand bag provision . campaign for better flood defences and preventative works. grounds fencing and wider use of recycled plastics, which last longer than timber. benches use of peat free products and review of the use of pesticide and chemical treatment. scope for leaving areas of grass uncut as meadowland. battery powered equipment , a commercial level ride on mower and wood chipper opportunities for tree and wild flower planting, e.g. within the country park and around the top grassed areas to the rear of phoenix house. consideration of biodiversity and green space management as this might be a source of offsetting future opens spaces to include increased planted areas . 7 consultation 7.1 no public consultation has been undertaken in relation to the proposals set out to date, though the stakeholder event involved external parties. as a corporate priority there is a cabinet report 4 climate emergency recommendation to council approach to climate emergency action plan requirement to carry out a stakeholder analysis and deploy a communication strategy. an environment or climate change summit has been suggested for later in 2020. 7.2 climate change and environmental issues has become a priority in the 2020 2024 corporate priorities following consultation towards their overall formulation. 8 next steps  implementation and communication 8.1 the recommended proposals will be presented to the council meeting on 8th april 2020. 9 financial implications 9.1 no budget has been assigned to this work and it is not known what the expected overall spend will be. this should be a key component of the action plan activity and will influence future budget setting activity. 9.2 an exception to this is the baselining activity referred to above, for which a sum of 5,000 is required. this would support and expert, independent commission to measure the councils own carbon production and the pathways around which to develop action plans. this can be funded from within established budgets. financial implications reviewed by director for corporate services  10.03.20 10 legal and governance implications 10.1 oversight and governance of this activity would be provided by the continuation of the climate emergency policy development group, with annual updates provided to council. within senior management structures, an environment board is to be established to oversee and co ordinate this work along with the other activities that are comprised within the corporate priority protect our climate and enhance our rural, natural environment. regular updates and discussion of key issues would be provided through liaison with the portfolio holder. 10.2 work planning and budgetary implications, including the influence the work has on budget setting, would be managed through the normal management and governance provisions legal implications reviewed by director for governance and regulatory services 10.03.20 11 equality and safeguarding implications 11.1 no equality or safeguarding issues have been identified to date. 12 community safety implications 12.1 no community safety issues have been identified to date. 13 environmental and climate change implications cabinet report 5 climate emergency recommendation to council approach to climate emergency action plan 13.1 this report is fundamental to the councils future measures in respect of environmental impact and climate change. the work programme will develop steps to realise our ambitions to realise the objective of the council becoming carbon neutral by 2030. 14 other implications 14.1 none 15 risk and mitigation risk risk description likelihood impact risk no 1 measures identified are likely to require refocussing of council investment and high critical high expenditure. 2 measures affecting external parties are more difficult to secure and very high marginal medium measure. 3 lack of buy in of leadership and wider very low critical low organisation. impact consequences negligible margina critical catastrophi l c score 1 2 3 4 definition 6 very high 2 5 high 1 likelihood 4 significant 3 low 2 very low 3 1 almost impossible risk no mitigation cabinet report 6 climate emergency recommendation to council approach to climate emergency action plan 1 long term planning will ensure that measures proposed are included within budget setting procedures, and are regarded as mainstream within service delivery. 2 opportunities to enhance the influence on key external parties arise from the councils role as landowner, landlord and local planning authority. 3 the subject area has been included as a corporate priority 2020 24, raising its profile amongst members and staff. internal management arrangements are being developed to reflect and support the corporate priorities, which will ensure it is disseminated to all levels of key staff. 16 background papers 16.1 report to council 18.12.2020 and appendix a. 17 appendices 17.1 none. report author jim worley, assistant director for planning and delivery report author contact details 01664 502359 chief officer responsible jim worley, assistant director for planning and delivery chief officer contact details 01664 502359 cabinet report 7 climate emergency recommendation to council approach to climate emergency action plan '"
      ]
     },
     "execution_count": 21,
     "metadata": {},
     "output_type": "execute_result"
    }
   ],
   "source": [
    "text = corpus['text'].sample(1,random_state=5).iloc[0]\n",
    "text"
   ]
  },
  {
   "cell_type": "code",
   "execution_count": 7,
   "metadata": {},
   "outputs": [
    {
     "name": "stderr",
     "output_type": "stream",
     "text": [
      "/tmp/ipykernel_121348/843998945.py:4: SettingWithCopyWarning: \n",
      "A value is trying to be set on a copy of a slice from a DataFrame.\n",
      "Try using .loc[row_indexer,col_indexer] = value instead\n",
      "\n",
      "See the caveats in the documentation: https://pandas.pydata.org/pandas-docs/stable/user_guide/indexing.html#returning-a-view-versus-a-copy\n",
      "  corpus['text'] = corpus['text'].apply(clean3)\n"
     ]
    }
   ],
   "source": [
    "def clean3(text):\n",
    "    text = re.sub(\"[^a-z. ]\",'',text)\n",
    "    return text\n",
    "# corpus['text'] = corpus['text'].apply(clean3)"
   ]
  },
  {
   "cell_type": "code",
   "execution_count": null,
   "metadata": {},
   "outputs": [],
   "source": [
    "import spacy\n",
    "import pytextrank\n",
    "\n",
    "text = corpus['text'].sample(1,random_state=5).iloc[0]\n",
    "\n",
    "# load a spaCy model, depending on language, scale, etc.\n",
    "nlp = spacy.load(\"en_core_web_sm\")\n",
    "# add PyTextRank to the spaCy pipeline\n",
    "nlp.add_pipe(\"textrank\")\n",
    "\n",
    "doc = nlp(text)\n",
    "print([w.text for w in doc if w.pos_ in [\"PROPN\",\"ADJ\", \"NOUN\"]])\n",
    "# examine the top-ranked phrases in the document\n",
    "for phrase in doc._.phrases:\n",
    "    print(phrase.text, phrase.rank, phrase.count)"
   ]
  },
  {
   "cell_type": "code",
   "execution_count": null,
   "metadata": {},
   "outputs": [],
   "source": [
    "##"
   ]
  }
 ],
 "metadata": {
  "kernelspec": {
   "display_name": "Python [conda env:Python3] *",
   "language": "python",
   "name": "conda-env-Python3-py"
  },
  "language_info": {
   "codemirror_mode": {
    "name": "ipython",
    "version": 3
   },
   "file_extension": ".py",
   "mimetype": "text/x-python",
   "name": "python",
   "nbconvert_exporter": "python",
   "pygments_lexer": "ipython3",
   "version": "3.9.15"
  }
 },
 "nbformat": 4,
 "nbformat_minor": 2
}
