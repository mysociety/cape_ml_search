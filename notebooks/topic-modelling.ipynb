{
 "cells": [
  {
   "cell_type": "code",
   "execution_count": 1,
   "metadata": {},
   "outputs": [
    {
     "name": "stdout",
     "output_type": "stream",
     "text": [
      "/bin/bash: /opt/anaconda/envs/Python3/lib/libtinfo.so.6: no version information available (required by /bin/bash)\n",
      "\u001b[1m\n",
      "         .:::.     .::.       \n",
      "        ....yy:    .yy.       \n",
      "        :.  .yy.    y.        \n",
      "             :y:   .:         \n",
      "             .yy  .:          \n",
      "              yy..:           \n",
      "              :y:.            \n",
      "              .y.             \n",
      "             .:.              \n",
      "        ....:.                \n",
      "        :::.                  \n",
      "\u001b[0;33m\n",
      "• Project files and data should be stored in /project. This is shared among everyone\n",
      "  in the project.\n",
      "• Personal files and configuration should be stored in /home/faculty.\n",
      "• Files outside /project and /home/faculty will be lost when this server is terminated.\n",
      "• Create custom environments to setup your servers reproducibly.\n",
      "\u001b[0m\n",
      "bash: /opt/anaconda/envs/Python3/lib/libtinfo.so.6: no version information available (required by bash)\n",
      "Collecting mysoc_dataset\n",
      "  Using cached mysoc_dataset-0.3.0-py3-none-any.whl (9.3 kB)\n",
      "Collecting spacy\n",
      "  Using cached spacy-3.5.0-cp39-cp39-manylinux_2_17_x86_64.manylinux2014_x86_64.whl (6.6 MB)\n",
      "Requirement already satisfied: nltk in /opt/anaconda/envs/Python3/lib/python3.9/site-packages (from -r requirements.txt (line 5)) (3.7)\n",
      "Collecting sentence-transformers\n",
      "  Using cached sentence_transformers-2.2.2-py3-none-any.whl\n",
      "Collecting pytextrank\n",
      "  Using cached pytextrank-3.2.4-py3-none-any.whl (30 kB)\n",
      "Requirement already satisfied: pandas>=1.3.5 in /opt/anaconda/envs/Python3/lib/python3.9/site-packages (from mysoc_dataset->-r requirements.txt (line 3)) (1.5.1)\n",
      "Collecting rich<13.0.0,>=12.5.1\n",
      "  Using cached rich-12.6.0-py3-none-any.whl (237 kB)\n",
      "Collecting rich-click<2.0.0,>=1.5.2\n",
      "  Using cached rich_click-1.6.1-py3-none-any.whl (19 kB)\n",
      "Collecting cymem<2.1.0,>=2.0.2\n",
      "  Using cached cymem-2.0.7-cp39-cp39-manylinux_2_17_x86_64.manylinux2014_x86_64.whl (35 kB)\n",
      "Collecting preshed<3.1.0,>=3.0.2\n",
      "  Using cached preshed-3.0.8-cp39-cp39-manylinux_2_5_x86_64.manylinux1_x86_64.manylinux_2_17_x86_64.manylinux2014_x86_64.whl (128 kB)\n",
      "Collecting pathy>=0.10.0\n",
      "  Using cached pathy-0.10.1-py3-none-any.whl (48 kB)\n",
      "Requirement already satisfied: setuptools in /opt/anaconda/envs/Python3/lib/python3.9/site-packages (from spacy->-r requirements.txt (line 4)) (65.5.0)\n",
      "Collecting typer<0.8.0,>=0.3.0\n",
      "  Using cached typer-0.7.0-py3-none-any.whl (38 kB)\n",
      "Collecting murmurhash<1.1.0,>=0.28.0\n",
      "  Using cached murmurhash-1.0.9-cp39-cp39-manylinux_2_5_x86_64.manylinux1_x86_64.manylinux_2_17_x86_64.manylinux2014_x86_64.whl (21 kB)\n",
      "Collecting srsly<3.0.0,>=2.4.3\n",
      "  Using cached srsly-2.4.6-cp39-cp39-manylinux_2_17_x86_64.manylinux2014_x86_64.whl (491 kB)\n",
      "Collecting spacy-loggers<2.0.0,>=1.0.0\n",
      "  Using cached spacy_loggers-1.0.4-py3-none-any.whl (11 kB)\n",
      "Collecting langcodes<4.0.0,>=3.2.0\n",
      "  Using cached langcodes-3.3.0-py3-none-any.whl (181 kB)\n",
      "Requirement already satisfied: packaging>=20.0 in /opt/anaconda/envs/Python3/lib/python3.9/site-packages (from spacy->-r requirements.txt (line 4)) (21.3)\n",
      "Collecting wasabi<1.2.0,>=0.9.1\n",
      "  Using cached wasabi-1.1.1-py3-none-any.whl (27 kB)\n",
      "Requirement already satisfied: numpy>=1.15.0 in /opt/anaconda/envs/Python3/lib/python3.9/site-packages (from spacy->-r requirements.txt (line 4)) (1.21.5)\n",
      "Requirement already satisfied: jinja2 in /opt/anaconda/envs/Python3/lib/python3.9/site-packages (from spacy->-r requirements.txt (line 4)) (3.1.2)\n",
      "Collecting catalogue<2.1.0,>=2.0.6\n",
      "  Using cached catalogue-2.0.8-py3-none-any.whl (17 kB)\n",
      "Requirement already satisfied: requests<3.0.0,>=2.13.0 in /opt/anaconda/envs/Python3/lib/python3.9/site-packages (from spacy->-r requirements.txt (line 4)) (2.28.1)\n",
      "Collecting thinc<8.2.0,>=8.1.0\n",
      "  Using cached thinc-8.1.8-cp39-cp39-manylinux_2_17_x86_64.manylinux2014_x86_64.whl (922 kB)\n",
      "Requirement already satisfied: smart-open<7.0.0,>=5.2.1 in /opt/anaconda/envs/Python3/lib/python3.9/site-packages (from spacy->-r requirements.txt (line 4)) (5.2.1)\n",
      "Collecting spacy-legacy<3.1.0,>=3.0.11\n",
      "  Using cached spacy_legacy-3.0.12-py2.py3-none-any.whl (29 kB)\n",
      "Requirement already satisfied: tqdm<5.0.0,>=4.38.0 in /opt/anaconda/envs/Python3/lib/python3.9/site-packages (from spacy->-r requirements.txt (line 4)) (4.64.1)\n",
      "Collecting pydantic!=1.8,!=1.8.1,<1.11.0,>=1.7.4\n",
      "  Using cached pydantic-1.10.5-cp39-cp39-manylinux_2_17_x86_64.manylinux2014_x86_64.whl (3.2 MB)\n",
      "Requirement already satisfied: joblib in /opt/anaconda/envs/Python3/lib/python3.9/site-packages (from nltk->-r requirements.txt (line 5)) (1.1.1)\n",
      "Requirement already satisfied: regex>=2021.8.3 in /opt/anaconda/envs/Python3/lib/python3.9/site-packages (from nltk->-r requirements.txt (line 5)) (2022.7.9)\n",
      "Requirement already satisfied: click in /opt/anaconda/envs/Python3/lib/python3.9/site-packages (from nltk->-r requirements.txt (line 5)) (8.0.4)\n",
      "Collecting huggingface-hub>=0.4.0\n",
      "  Using cached huggingface_hub-0.12.1-py3-none-any.whl (190 kB)\n",
      "Collecting transformers<5.0.0,>=4.6.0\n",
      "  Using cached transformers-4.26.1-py3-none-any.whl (6.3 MB)\n",
      "Collecting torchvision\n",
      "  Using cached torchvision-0.14.1-cp39-cp39-manylinux1_x86_64.whl (24.2 MB)\n",
      "Collecting sentencepiece\n",
      "  Using cached sentencepiece-0.1.97-cp39-cp39-manylinux_2_17_x86_64.manylinux2014_x86_64.whl (1.3 MB)\n",
      "Requirement already satisfied: scipy in /opt/anaconda/envs/Python3/lib/python3.9/site-packages (from sentence-transformers->-r requirements.txt (line 6)) (1.7.3)\n",
      "Requirement already satisfied: scikit-learn in /opt/anaconda/envs/Python3/lib/python3.9/site-packages (from sentence-transformers->-r requirements.txt (line 6)) (1.0.2)\n",
      "Collecting torch>=1.6.0\n",
      "  Using cached torch-1.13.1-cp39-cp39-manylinux1_x86_64.whl (887.4 MB)\n",
      "Requirement already satisfied: networkx[default]>=2.6 in /opt/anaconda/envs/Python3/lib/python3.9/site-packages (from pytextrank->-r requirements.txt (line 7)) (2.8.4)\n",
      "Requirement already satisfied: graphviz>=0.13 in /opt/anaconda/envs/Python3/lib/python3.9/site-packages (from pytextrank->-r requirements.txt (line 7)) (0.20.1)\n",
      "Requirement already satisfied: pygments>=2.7.4 in /opt/anaconda/envs/Python3/lib/python3.9/site-packages (from pytextrank->-r requirements.txt (line 7)) (2.11.2)\n",
      "Collecting icecream>=2.1\n",
      "  Using cached icecream-2.1.3-py2.py3-none-any.whl (8.4 kB)\n",
      "Requirement already satisfied: pyyaml>=5.1 in /opt/anaconda/envs/Python3/lib/python3.9/site-packages (from huggingface-hub>=0.4.0->sentence-transformers->-r requirements.txt (line 6)) (6.0)\n",
      "Requirement already satisfied: typing-extensions>=3.7.4.3 in /opt/anaconda/envs/Python3/lib/python3.9/site-packages (from huggingface-hub>=0.4.0->sentence-transformers->-r requirements.txt (line 6)) (4.4.0)\n",
      "Requirement already satisfied: filelock in /opt/anaconda/envs/Python3/lib/python3.9/site-packages (from huggingface-hub>=0.4.0->sentence-transformers->-r requirements.txt (line 6)) (3.6.0)\n",
      "Requirement already satisfied: asttokens>=2.0.1 in /opt/anaconda/envs/Python3/lib/python3.9/site-packages (from icecream>=2.1->pytextrank->-r requirements.txt (line 7)) (2.0.5)\n",
      "Requirement already satisfied: colorama>=0.3.9 in /opt/anaconda/envs/Python3/lib/python3.9/site-packages (from icecream>=2.1->pytextrank->-r requirements.txt (line 7)) (0.4.5)\n",
      "Requirement already satisfied: executing>=0.3.1 in /opt/anaconda/envs/Python3/lib/python3.9/site-packages (from icecream>=2.1->pytextrank->-r requirements.txt (line 7)) (0.8.3)\n",
      "Collecting scipy\n",
      "  Using cached scipy-1.10.1-cp39-cp39-manylinux_2_17_x86_64.manylinux2014_x86_64.whl (34.5 MB)\n",
      "Requirement already satisfied: matplotlib>=3.4 in /opt/anaconda/envs/Python3/lib/python3.9/site-packages (from networkx[default]>=2.6->pytextrank->-r requirements.txt (line 7)) (3.5.3)\n",
      "Requirement already satisfied: pyparsing!=3.0.5,>=2.0.2 in /opt/anaconda/envs/Python3/lib/python3.9/site-packages (from packaging>=20.0->spacy->-r requirements.txt (line 4)) (3.0.9)\n",
      "Requirement already satisfied: python-dateutil>=2.8.1 in /opt/anaconda/envs/Python3/lib/python3.9/site-packages (from pandas>=1.3.5->mysoc_dataset->-r requirements.txt (line 3)) (2.8.2)\n",
      "Requirement already satisfied: pytz>=2020.1 in /opt/anaconda/envs/Python3/lib/python3.9/site-packages (from pandas>=1.3.5->mysoc_dataset->-r requirements.txt (line 3)) (2022.1)\n",
      "Requirement already satisfied: idna<4,>=2.5 in /opt/anaconda/envs/Python3/lib/python3.9/site-packages (from requests<3.0.0,>=2.13.0->spacy->-r requirements.txt (line 4)) (3.4)\n",
      "Requirement already satisfied: certifi>=2017.4.17 in /opt/anaconda/envs/Python3/lib/python3.9/site-packages (from requests<3.0.0,>=2.13.0->spacy->-r requirements.txt (line 4)) (2022.9.24)\n",
      "Requirement already satisfied: urllib3<1.27,>=1.21.1 in /opt/anaconda/envs/Python3/lib/python3.9/site-packages (from requests<3.0.0,>=2.13.0->spacy->-r requirements.txt (line 4)) (1.26.12)\n",
      "Requirement already satisfied: charset-normalizer<3,>=2 in /opt/anaconda/envs/Python3/lib/python3.9/site-packages (from requests<3.0.0,>=2.13.0->spacy->-r requirements.txt (line 4)) (2.0.4)\n"
     ]
    },
    {
     "name": "stdout",
     "output_type": "stream",
     "text": [
      "Collecting commonmark<0.10.0,>=0.9.0\n",
      "  Using cached commonmark-0.9.1-py2.py3-none-any.whl (51 kB)\n",
      "Collecting blis<0.8.0,>=0.7.8\n",
      "  Using cached blis-0.7.9-cp39-cp39-manylinux_2_17_x86_64.manylinux2014_x86_64.whl (10.2 MB)\n",
      "Collecting confection<1.0.0,>=0.0.1\n",
      "  Using cached confection-0.0.4-py3-none-any.whl (32 kB)\n",
      "Collecting nvidia-cuda-runtime-cu11==11.7.99\n",
      "  Using cached nvidia_cuda_runtime_cu11-11.7.99-py3-none-manylinux1_x86_64.whl (849 kB)\n",
      "Collecting nvidia-cuda-nvrtc-cu11==11.7.99\n",
      "  Using cached nvidia_cuda_nvrtc_cu11-11.7.99-2-py3-none-manylinux1_x86_64.whl (21.0 MB)\n",
      "Collecting nvidia-cudnn-cu11==8.5.0.96\n",
      "  Using cached nvidia_cudnn_cu11-8.5.0.96-2-py3-none-manylinux1_x86_64.whl (557.1 MB)\n",
      "Collecting nvidia-cublas-cu11==11.10.3.66\n",
      "  Using cached nvidia_cublas_cu11-11.10.3.66-py3-none-manylinux1_x86_64.whl (317.1 MB)\n",
      "Requirement already satisfied: wheel in /opt/anaconda/envs/Python3/lib/python3.9/site-packages (from nvidia-cublas-cu11==11.10.3.66->torch>=1.6.0->sentence-transformers->-r requirements.txt (line 6)) (0.37.1)\n",
      "Collecting tokenizers!=0.11.3,<0.14,>=0.11.1\n",
      "  Using cached tokenizers-0.13.2-cp39-cp39-manylinux_2_17_x86_64.manylinux2014_x86_64.whl (7.6 MB)\n",
      "Requirement already satisfied: MarkupSafe>=2.0 in /opt/anaconda/envs/Python3/lib/python3.9/site-packages (from jinja2->spacy->-r requirements.txt (line 4)) (2.1.1)\n",
      "Requirement already satisfied: threadpoolctl>=2.0.0 in /opt/anaconda/envs/Python3/lib/python3.9/site-packages (from scikit-learn->sentence-transformers->-r requirements.txt (line 6)) (2.2.0)\n",
      "Requirement already satisfied: pillow!=8.3.*,>=5.3.0 in /opt/anaconda/envs/Python3/lib/python3.9/site-packages (from torchvision->sentence-transformers->-r requirements.txt (line 6)) (9.2.0)\n",
      "Requirement already satisfied: six in /opt/anaconda/envs/Python3/lib/python3.9/site-packages (from asttokens>=2.0.1->icecream>=2.1->pytextrank->-r requirements.txt (line 7)) (1.16.0)\n",
      "Requirement already satisfied: cycler>=0.10 in /opt/anaconda/envs/Python3/lib/python3.9/site-packages (from matplotlib>=3.4->networkx[default]>=2.6->pytextrank->-r requirements.txt (line 7)) (0.11.0)\n",
      "Requirement already satisfied: kiwisolver>=1.0.1 in /opt/anaconda/envs/Python3/lib/python3.9/site-packages (from matplotlib>=3.4->networkx[default]>=2.6->pytextrank->-r requirements.txt (line 7)) (1.4.2)\n",
      "Requirement already satisfied: fonttools>=4.22.0 in /opt/anaconda/envs/Python3/lib/python3.9/site-packages (from matplotlib>=3.4->networkx[default]>=2.6->pytextrank->-r requirements.txt (line 7)) (4.25.0)\n",
      "Installing collected packages: tokenizers, sentencepiece, cymem, commonmark, wasabi, typer, spacy-loggers, spacy-legacy, scipy, rich, pydantic, nvidia-cuda-runtime-cu11, nvidia-cuda-nvrtc-cu11, nvidia-cublas-cu11, murmurhash, langcodes, catalogue, blis, srsly, rich-click, preshed, pathy, nvidia-cudnn-cu11, icecream, huggingface-hub, transformers, torch, mysoc_dataset, confection, torchvision, thinc, spacy, sentence-transformers, pytextrank\n",
      "  Attempting uninstall: scipy\n",
      "    Found existing installation: scipy 1.7.3\n",
      "    Uninstalling scipy-1.7.3:\n",
      "      Successfully uninstalled scipy-1.7.3\n",
      "Successfully installed blis-0.7.9 catalogue-2.0.8 commonmark-0.9.1 confection-0.0.4 cymem-2.0.7 huggingface-hub-0.12.1 icecream-2.1.3 langcodes-3.3.0 murmurhash-1.0.9 mysoc_dataset-0.3.0 nvidia-cublas-cu11-11.10.3.66 nvidia-cuda-nvrtc-cu11-11.7.99 nvidia-cuda-runtime-cu11-11.7.99 nvidia-cudnn-cu11-8.5.0.96 pathy-0.10.1 preshed-3.0.8 pydantic-1.10.5 pytextrank-3.2.4 rich-12.6.0 rich-click-1.6.1 scipy-1.10.1 sentence-transformers-2.2.2 sentencepiece-0.1.97 spacy-3.5.0 spacy-legacy-3.0.12 spacy-loggers-1.0.4 srsly-2.4.6 thinc-8.1.8 tokenizers-0.13.2 torch-1.13.1 torchvision-0.14.1 transformers-4.26.1 typer-0.7.0 wasabi-1.1.1\n"
     ]
    }
   ],
   "source": [
    "!pip install -r requirements.txt"
   ]
  },
  {
   "cell_type": "code",
   "execution_count": 2,
   "metadata": {},
   "outputs": [
    {
     "name": "stderr",
     "output_type": "stream",
     "text": [
      "2023-03-07 14:25:56.880227: W tensorflow/stream_executor/platform/default/dso_loader.cc:64] Could not load dynamic library 'libcuda.so.1'; dlerror: libcuda.so.1: cannot open shared object file: No such file or directory; LD_LIBRARY_PATH: /opt/anaconda/envs/Python3/lib:\n",
      "2023-03-07 14:25:56.880284: W tensorflow/stream_executor/cuda/cuda_driver.cc:269] failed call to cuInit: UNKNOWN ERROR (303)\n",
      "2023-03-07 14:25:56.880322: I tensorflow/stream_executor/cuda/cuda_diagnostics.cc:156] kernel driver does not appear to be running on this host (cube-28dd6833-92cf-4219-8e40-4c56594541f0-54876db7d5-78kjt): /proc/driver/nvidia/version does not exist\n"
     ]
    }
   ],
   "source": [
    "import faculty.datasets as datasets\n",
    "import matplotlib.pyplot as plt\n",
    "import nltk\n",
    "import numpy as np\n",
    "import pandas as pd\n",
    "import spacy\n",
    "import re\n",
    "from utils import clean2, is_pua\n",
    "from sentence_transformers import SentenceTransformer\n",
    "import pickle\n",
    "%matplotlib inline"
   ]
  },
  {
   "cell_type": "code",
   "execution_count": 3,
   "metadata": {},
   "outputs": [],
   "source": [
    "df = pd.read_excel('../data/raw/plans.xlsx')\n",
    "drop_cols = ['search_link','type','charset','unfound','credit','date_retrieved','time_period','scope','status',\n",
    "            'well_presented', 'baseline_analysis', 'notes', 'plan_path','file_type','website_url',\n",
    "            'authority_code', 'authority_type', 'wdtk_id',\n",
    "           'mapit_area_code', 'country', 'gss_code', 'county', 'region',\n",
    "           'population', 'unfound','credit','homepage_mention', 'dedicated_page',\n",
    "            'plan_due','title','title_checked','twitter_url','twitter_name','url','council']\n",
    "df = df.drop(drop_cols,axis=1)\n",
    "corpus = df[df['text'].notna()]"
   ]
  },
  {
   "cell_type": "markdown",
   "metadata": {
    "scrolled": false
   },
   "source": [
    "## cleaning"
   ]
  },
  {
   "cell_type": "code",
   "execution_count": 5,
   "metadata": {},
   "outputs": [
    {
     "name": "stderr",
     "output_type": "stream",
     "text": [
      "/tmp/ipykernel_169/3369171658.py:1: SettingWithCopyWarning: \n",
      "A value is trying to be set on a copy of a slice from a DataFrame.\n",
      "Try using .loc[row_indexer,col_indexer] = value instead\n",
      "\n",
      "See the caveats in the documentation: https://pandas.pydata.org/pandas-docs/stable/user_guide/indexing.html#returning-a-view-versus-a-copy\n",
      "  corpus['text'] = corpus['text'].apply(clean2)\n"
     ]
    }
   ],
   "source": [
    "corpus['text'] = corpus['text'].apply(clean2)"
   ]
  },
  {
   "cell_type": "code",
   "execution_count": 6,
   "metadata": {},
   "outputs": [
    {
     "name": "stderr",
     "output_type": "stream",
     "text": [
      "/tmp/ipykernel_169/843998945.py:4: SettingWithCopyWarning: \n",
      "A value is trying to be set on a copy of a slice from a DataFrame.\n",
      "Try using .loc[row_indexer,col_indexer] = value instead\n",
      "\n",
      "See the caveats in the documentation: https://pandas.pydata.org/pandas-docs/stable/user_guide/indexing.html#returning-a-view-versus-a-copy\n",
      "  corpus['text'] = corpus['text'].apply(clean3)\n"
     ]
    }
   ],
   "source": [
    "def clean3(text):\n",
    "    text = re.sub(\"[^a-z. ]\",'',text)\n",
    "    return text\n",
    "corpus['text'] = corpus['text'].apply(clean3)"
   ]
  },
  {
   "cell_type": "code",
   "execution_count": 7,
   "metadata": {},
   "outputs": [],
   "source": [
    "# import spacy\n",
    "# nlp = spacy.load(\"en_core_web_sm\")\n",
    "# import en_core_web_sm\n",
    "# nlp = en_core_web_sm.load()\n",
    "# doc = nlp(test)\n",
    "# print([w.text for w in doc if w.pos_ in [\"PROPN\",\"ADJ\", \"NOUN\"]])"
   ]
  },
  {
   "cell_type": "code",
   "execution_count": null,
   "metadata": {},
   "outputs": [],
   "source": [
    "!pip install 'scipy>=1.8'"
   ]
  },
  {
   "cell_type": "code",
   "execution_count": null,
   "metadata": {},
   "outputs": [],
   "source": [
    "import pytextrank\n",
    "\n",
    "# example text\n",
    "text = \"\"\"Compatibility of systems of linear constraints over the set of natural numbers.\n",
    "Criteria of compatibility of a system of linear Diophantine equations, strict inequations,\n",
    "and nonstrict inequations are considered. Upper bounds for components of a minimal set of\n",
    "solutions and algorithms of construction of minimal generating sets of solutions for all types\n",
    "of systems are given. These criteria and the corresponding algorithms for constructing a minimal\n",
    "supporting set of solutions can be used in solving all the considered types systems and systems of mixed types.\"\"\"\n",
    "\n",
    "# load a spaCy model, depending on language, scale, etc.\n",
    "nlp = spacy.load(\"en_core_web_sm\")\n",
    "# add PyTextRank to the spaCy pipeline\n",
    "nlp.add_pipe(\"textrank\")\n",
    "\n",
    "doc = nlp(text)\n",
    "# examine the top-ranked phrases in the document\n",
    "for phrase in doc._.phrases:\n",
    "    print(phrase.text)\n",
    "    print(phrase.rank, phrase.count)\n",
    "    print(phrase.chunks)"
   ]
  },
  {
   "cell_type": "code",
   "execution_count": null,
   "metadata": {},
   "outputs": [],
   "source": [
    "clean2(test)"
   ]
  },
  {
   "cell_type": "code",
   "execution_count": null,
   "metadata": {},
   "outputs": [],
   "source": [
    "test"
   ]
  },
  {
   "cell_type": "code",
   "execution_count": null,
   "metadata": {},
   "outputs": [],
   "source": []
  }
 ],
 "metadata": {
  "kernelspec": {
   "display_name": "Python [conda env:Python3] *",
   "language": "python",
   "name": "conda-env-Python3-py"
  },
  "language_info": {
   "codemirror_mode": {
    "name": "ipython",
    "version": 3
   },
   "file_extension": ".py",
   "mimetype": "text/x-python",
   "name": "python",
   "nbconvert_exporter": "python",
   "pygments_lexer": "ipython3",
   "version": "3.9.15"
  }
 },
 "nbformat": 4,
 "nbformat_minor": 2
}
