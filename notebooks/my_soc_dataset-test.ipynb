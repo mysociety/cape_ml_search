{
 "cells": [
  {
   "cell_type": "code",
   "execution_count": null,
   "metadata": {},
   "outputs": [],
   "source": [
    "!pip install mysoc_dataset"
   ]
  },
  {
   "cell_type": "code",
   "execution_count": null,
   "metadata": {},
   "outputs": [],
   "source": [
    "import mysoc_dataset as ms\n",
    "\n",
    "# get the url of dataset\n",
    "url = ms.get_dataset_url(\n",
    "    repo_name=\"la-plans-promises\",\n",
    "    package_name=\"local_authority_climate_plans_metadata\",\n",
    "    version_name=\"latest\",\n",
    "    file_name=\"plans.csv\",\n",
    ")\n",
    "\n",
    "# get a pandas dataframe\n",
    "df = ms.get_dataset_df(\n",
    "    repo_name=\"la-plans-promises\",\n",
    "    package_name=\"local_authority_climate_plans_metadata\",\n",
    "    version_name=\"latest\",\n",
    "    file_name=\"plans.csv\",\n",
    ")\n"
   ]
  },
  {
   "cell_type": "code",
   "execution_count": 26,
   "metadata": {},
   "outputs": [
    {
     "data": {
      "text/plain": [
       "['uk_local_authority_names_and_codes',\n",
       " 'wdtk_authorities_list',\n",
       " 'uk_ruc',\n",
       " 'composite_uk_imd',\n",
       " 'la-emissions-data',\n",
       " 'local-authority-similarity',\n",
       " 'scotland-climate-projects-data',\n",
       " 'la-plans-promises']"
      ]
     },
     "execution_count": 26,
     "metadata": {},
     "output_type": "execute_result"
    }
   ],
   "source": [
    "repos = mysoc_dataset.get_public_datasets()\n",
    "repos = [a.replace('https://mysociety.github.io/','') for a in repos]\n",
    "repos"
   ]
  },
  {
   "cell_type": "code",
   "execution_count": 35,
   "metadata": {},
   "outputs": [
    {
     "ename": "TypeError",
     "evalue": "__init__() missing 2 required positional arguments: 'full_version' and 'downloads'",
     "output_type": "error",
     "traceback": [
      "\u001b[0;31m---------------------------------------------------------------------------\u001b[0m",
      "\u001b[0;31mTypeError\u001b[0m                                 Traceback (most recent call last)",
      "\u001b[0;32m/tmp/ipykernel_543/3474726096.py\u001b[0m in \u001b[0;36m<module>\u001b[0;34m\u001b[0m\n\u001b[1;32m      2\u001b[0m \u001b[0mpromises\u001b[0m \u001b[0;34m=\u001b[0m \u001b[0mms\u001b[0m\u001b[0;34m.\u001b[0m\u001b[0mdataset\u001b[0m\u001b[0;34m.\u001b[0m\u001b[0mDataRepo\u001b[0m\u001b[0;34m(\u001b[0m\u001b[0;34m'https://mysociety.github.io/la-plans-promises'\u001b[0m\u001b[0;34m)\u001b[0m\u001b[0;34m\u001b[0m\u001b[0;34m\u001b[0m\u001b[0m\n\u001b[1;32m      3\u001b[0m \u001b[0mpackage0\u001b[0m \u001b[0;34m=\u001b[0m \u001b[0mpromises\u001b[0m\u001b[0;34m.\u001b[0m\u001b[0mlist_packages\u001b[0m\u001b[0;34m(\u001b[0m\u001b[0;34m)\u001b[0m\u001b[0;34m[\u001b[0m\u001b[0;36m0\u001b[0m\u001b[0;34m]\u001b[0m\u001b[0;34m\u001b[0m\u001b[0;34m\u001b[0m\u001b[0m\n\u001b[0;32m----> 4\u001b[0;31m \u001b[0mms\u001b[0m\u001b[0;34m.\u001b[0m\u001b[0mdataset\u001b[0m\u001b[0;34m.\u001b[0m\u001b[0mPackageVersion\u001b[0m\u001b[0;34m(\u001b[0m\u001b[0mpackage0\u001b[0m\u001b[0;34m)\u001b[0m\u001b[0;34m\u001b[0m\u001b[0;34m\u001b[0m\u001b[0m\n\u001b[0m",
      "\u001b[0;31mTypeError\u001b[0m: __init__() missing 2 required positional arguments: 'full_version' and 'downloads'"
     ]
    }
   ],
   "source": [
    "import mysoc_dataset as ms\n",
    "promises = ms.dataset.DataRepo('https://mysociety.github.io/la-plans-promises')\n",
    "package0 = promises.list_packages()[0]\n",
    "ms.dataset.PackageVersion(package0)"
   ]
  },
  {
   "cell_type": "code",
   "execution_count": null,
   "metadata": {},
   "outputs": [],
   "source": [
    "for repo in repos:\n",
    "    public_repo = ms.dataset.DataRepo(repo)\n",
    "    for package in public_repo.list_packages():\n",
    "        \n",
    "        url = ms.get_dataset_url(\n",
    "            repo_name= repo,\n",
    "            package_name=package,\n",
    "            version_name=\"latest\",\n",
    "            file_name=\"plans.csv\",\n",
    "        )\n",
    "\n",
    "        # get a pandas dataframe\n",
    "        df = ms.get_dataset_df(\n",
    "            repo_name=\"la-plans-promises\",\n",
    "            package_name=\"local_authority_climate_plans_metadata\",\n",
    "            version_name=\"latest\",\n",
    "            file_name=\"plans.csv\",\n",
    "        )"
   ]
  },
  {
   "cell_type": "code",
   "execution_count": 39,
   "metadata": {},
   "outputs": [
    {
     "name": "stdout",
     "output_type": "stream",
     "text": [
      "/bin/bash: /opt/anaconda/envs/Python3/lib/libtinfo.so.6: no version information available (required by /bin/bash)\n",
      "\u001b[1m\n",
      "         .:::.     .::.       \n",
      "        ....yy:    .yy.       \n",
      "        :.  .yy.    y.        \n",
      "             :y:   .:         \n",
      "             .yy  .:          \n",
      "              yy..:           \n",
      "              :y:.            \n",
      "              .y.             \n",
      "             .:.              \n",
      "        ....:.                \n",
      "        :::.                  \n",
      "\u001b[0;33m\n",
      "• Project files and data should be stored in /project. This is shared among everyone\n",
      "  in the project.\n",
      "• Personal files and configuration should be stored in /home/faculty.\n",
      "• Files outside /project and /home/faculty will be lost when this server is terminated.\n",
      "• Create custom environments to setup your servers reproducibly.\n",
      "\u001b[0m\n",
      "bash: /opt/anaconda/envs/Python3/lib/libtinfo.so.6: no version information available (required by bash)\n",
      "bash: mysoc_dataset: command not found\n"
     ]
    }
   ],
   "source": [
    "!mysoc_dataset detail"
   ]
  },
  {
   "cell_type": "code",
   "execution_count": null,
   "metadata": {},
   "outputs": [],
   "source": []
  }
 ],
 "metadata": {
  "kernelspec": {
   "display_name": "Python [conda env:Python3] *",
   "language": "python",
   "name": "conda-env-Python3-py"
  },
  "language_info": {
   "codemirror_mode": {
    "name": "ipython",
    "version": 3
   },
   "file_extension": ".py",
   "mimetype": "text/x-python",
   "name": "python",
   "nbconvert_exporter": "python",
   "pygments_lexer": "ipython3",
   "version": "3.9.15"
  }
 },
 "nbformat": 4,
 "nbformat_minor": 2
}
