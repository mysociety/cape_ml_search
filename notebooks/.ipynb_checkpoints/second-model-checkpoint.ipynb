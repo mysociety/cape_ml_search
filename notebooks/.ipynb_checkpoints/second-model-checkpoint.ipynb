{
 "cells": [
  {
   "cell_type": "code",
   "execution_count": 15,
   "metadata": {},
   "outputs": [
    {
     "name": "stdout",
     "output_type": "stream",
     "text": [
      "/bin/bash: /opt/anaconda/envs/Python3/lib/libtinfo.so.6: no version information available (required by /bin/bash)\n",
      "\u001b[1m\n",
      "         .:::.     .::.       \n",
      "        ....yy:    .yy.       \n",
      "        :.  .yy.    y.        \n",
      "             :y:   .:         \n",
      "             .yy  .:          \n",
      "              yy..:           \n",
      "              :y:.            \n",
      "              .y.             \n",
      "             .:.              \n",
      "        ....:.                \n",
      "        :::.                  \n",
      "\u001b[0;33m\n",
      "• Project files and data should be stored in /project. This is shared among everyone\n",
      "  in the project.\n",
      "• Personal files and configuration should be stored in /home/faculty.\n",
      "• Files outside /project and /home/faculty will be lost when this server is terminated.\n",
      "• Create custom environments to setup your servers reproducibly.\n",
      "\u001b[0m\n",
      "bash: /opt/anaconda/envs/Python3/lib/libtinfo.so.6: no version information available (required by bash)\n",
      "Requirement already satisfied: mysoc_dataset in /opt/anaconda/envs/Python3/lib/python3.9/site-packages (from -r requirements.txt (line 3)) (0.3.0)\n",
      "Requirement already satisfied: spacy in /opt/anaconda/envs/Python3/lib/python3.9/site-packages (from -r requirements.txt (line 4)) (3.5.0)\n",
      "Requirement already satisfied: nltk in /opt/anaconda/envs/Python3/lib/python3.9/site-packages (from -r requirements.txt (line 5)) (3.7)\n",
      "Requirement already satisfied: sentence-transformers in /opt/anaconda/envs/Python3/lib/python3.9/site-packages (from -r requirements.txt (line 6)) (2.2.2)\n",
      "Requirement already satisfied: rich<13.0.0,>=12.5.1 in /opt/anaconda/envs/Python3/lib/python3.9/site-packages (from mysoc_dataset->-r requirements.txt (line 3)) (12.6.0)\n",
      "Requirement already satisfied: pandas>=1.3.5 in /opt/anaconda/envs/Python3/lib/python3.9/site-packages (from mysoc_dataset->-r requirements.txt (line 3)) (1.5.1)\n",
      "Requirement already satisfied: rich-click<2.0.0,>=1.5.2 in /opt/anaconda/envs/Python3/lib/python3.9/site-packages (from mysoc_dataset->-r requirements.txt (line 3)) (1.6.1)\n",
      "Requirement already satisfied: wasabi<1.2.0,>=0.9.1 in /opt/anaconda/envs/Python3/lib/python3.9/site-packages (from spacy->-r requirements.txt (line 4)) (1.1.1)\n",
      "Requirement already satisfied: spacy-loggers<2.0.0,>=1.0.0 in /opt/anaconda/envs/Python3/lib/python3.9/site-packages (from spacy->-r requirements.txt (line 4)) (1.0.4)\n",
      "Requirement already satisfied: requests<3.0.0,>=2.13.0 in /opt/anaconda/envs/Python3/lib/python3.9/site-packages (from spacy->-r requirements.txt (line 4)) (2.28.1)\n",
      "Requirement already satisfied: typer<0.8.0,>=0.3.0 in /opt/anaconda/envs/Python3/lib/python3.9/site-packages (from spacy->-r requirements.txt (line 4)) (0.7.0)\n",
      "Requirement already satisfied: tqdm<5.0.0,>=4.38.0 in /opt/anaconda/envs/Python3/lib/python3.9/site-packages (from spacy->-r requirements.txt (line 4)) (4.64.1)\n",
      "Requirement already satisfied: catalogue<2.1.0,>=2.0.6 in /opt/anaconda/envs/Python3/lib/python3.9/site-packages (from spacy->-r requirements.txt (line 4)) (2.0.8)\n",
      "Requirement already satisfied: spacy-legacy<3.1.0,>=3.0.11 in /opt/anaconda/envs/Python3/lib/python3.9/site-packages (from spacy->-r requirements.txt (line 4)) (3.0.12)\n",
      "Requirement already satisfied: srsly<3.0.0,>=2.4.3 in /opt/anaconda/envs/Python3/lib/python3.9/site-packages (from spacy->-r requirements.txt (line 4)) (2.4.6)\n",
      "Requirement already satisfied: pydantic!=1.8,!=1.8.1,<1.11.0,>=1.7.4 in /opt/anaconda/envs/Python3/lib/python3.9/site-packages (from spacy->-r requirements.txt (line 4)) (1.10.5)\n",
      "Requirement already satisfied: numpy>=1.15.0 in /opt/anaconda/envs/Python3/lib/python3.9/site-packages (from spacy->-r requirements.txt (line 4)) (1.21.5)\n",
      "Requirement already satisfied: langcodes<4.0.0,>=3.2.0 in /opt/anaconda/envs/Python3/lib/python3.9/site-packages (from spacy->-r requirements.txt (line 4)) (3.3.0)\n",
      "Requirement already satisfied: preshed<3.1.0,>=3.0.2 in /opt/anaconda/envs/Python3/lib/python3.9/site-packages (from spacy->-r requirements.txt (line 4)) (3.0.8)\n",
      "Requirement already satisfied: murmurhash<1.1.0,>=0.28.0 in /opt/anaconda/envs/Python3/lib/python3.9/site-packages (from spacy->-r requirements.txt (line 4)) (1.0.9)\n",
      "Requirement already satisfied: pathy>=0.10.0 in /opt/anaconda/envs/Python3/lib/python3.9/site-packages (from spacy->-r requirements.txt (line 4)) (0.10.1)\n",
      "Requirement already satisfied: setuptools in /opt/anaconda/envs/Python3/lib/python3.9/site-packages (from spacy->-r requirements.txt (line 4)) (65.5.0)\n",
      "Requirement already satisfied: jinja2 in /opt/anaconda/envs/Python3/lib/python3.9/site-packages (from spacy->-r requirements.txt (line 4)) (3.1.2)\n",
      "Requirement already satisfied: smart-open<7.0.0,>=5.2.1 in /opt/anaconda/envs/Python3/lib/python3.9/site-packages (from spacy->-r requirements.txt (line 4)) (5.2.1)\n",
      "Requirement already satisfied: packaging>=20.0 in /opt/anaconda/envs/Python3/lib/python3.9/site-packages (from spacy->-r requirements.txt (line 4)) (21.3)\n",
      "Requirement already satisfied: cymem<2.1.0,>=2.0.2 in /opt/anaconda/envs/Python3/lib/python3.9/site-packages (from spacy->-r requirements.txt (line 4)) (2.0.7)\n",
      "Requirement already satisfied: thinc<8.2.0,>=8.1.0 in /opt/anaconda/envs/Python3/lib/python3.9/site-packages (from spacy->-r requirements.txt (line 4)) (8.1.8)\n",
      "Requirement already satisfied: click in /opt/anaconda/envs/Python3/lib/python3.9/site-packages (from nltk->-r requirements.txt (line 5)) (8.0.4)\n",
      "Requirement already satisfied: joblib in /opt/anaconda/envs/Python3/lib/python3.9/site-packages (from nltk->-r requirements.txt (line 5)) (1.1.1)\n",
      "Requirement already satisfied: regex>=2021.8.3 in /opt/anaconda/envs/Python3/lib/python3.9/site-packages (from nltk->-r requirements.txt (line 5)) (2022.7.9)\n",
      "Requirement already satisfied: scikit-learn in /opt/anaconda/envs/Python3/lib/python3.9/site-packages (from sentence-transformers->-r requirements.txt (line 6)) (1.0.2)\n",
      "Requirement already satisfied: scipy in /opt/anaconda/envs/Python3/lib/python3.9/site-packages (from sentence-transformers->-r requirements.txt (line 6)) (1.7.3)\n",
      "Requirement already satisfied: sentencepiece in /opt/anaconda/envs/Python3/lib/python3.9/site-packages (from sentence-transformers->-r requirements.txt (line 6)) (0.1.97)\n",
      "Requirement already satisfied: torch>=1.6.0 in /opt/anaconda/envs/Python3/lib/python3.9/site-packages (from sentence-transformers->-r requirements.txt (line 6)) (1.13.1)\n",
      "Requirement already satisfied: huggingface-hub>=0.4.0 in /opt/anaconda/envs/Python3/lib/python3.9/site-packages (from sentence-transformers->-r requirements.txt (line 6)) (0.12.1)\n",
      "Requirement already satisfied: transformers<5.0.0,>=4.6.0 in /opt/anaconda/envs/Python3/lib/python3.9/site-packages (from sentence-transformers->-r requirements.txt (line 6)) (4.26.1)\n",
      "Requirement already satisfied: torchvision in /opt/anaconda/envs/Python3/lib/python3.9/site-packages (from sentence-transformers->-r requirements.txt (line 6)) (0.14.1)\n",
      "Requirement already satisfied: pyyaml>=5.1 in /opt/anaconda/envs/Python3/lib/python3.9/site-packages (from huggingface-hub>=0.4.0->sentence-transformers->-r requirements.txt (line 6)) (6.0)\n",
      "Requirement already satisfied: typing-extensions>=3.7.4.3 in /opt/anaconda/envs/Python3/lib/python3.9/site-packages (from huggingface-hub>=0.4.0->sentence-transformers->-r requirements.txt (line 6)) (4.4.0)\n",
      "Requirement already satisfied: filelock in /opt/anaconda/envs/Python3/lib/python3.9/site-packages (from huggingface-hub>=0.4.0->sentence-transformers->-r requirements.txt (line 6)) (3.6.0)\n",
      "Requirement already satisfied: pyparsing!=3.0.5,>=2.0.2 in /opt/anaconda/envs/Python3/lib/python3.9/site-packages (from packaging>=20.0->spacy->-r requirements.txt (line 4)) (3.0.9)\n",
      "Requirement already satisfied: python-dateutil>=2.8.1 in /opt/anaconda/envs/Python3/lib/python3.9/site-packages (from pandas>=1.3.5->mysoc_dataset->-r requirements.txt (line 3)) (2.8.2)\n",
      "Requirement already satisfied: pytz>=2020.1 in /opt/anaconda/envs/Python3/lib/python3.9/site-packages (from pandas>=1.3.5->mysoc_dataset->-r requirements.txt (line 3)) (2022.1)\n",
      "Requirement already satisfied: certifi>=2017.4.17 in /opt/anaconda/envs/Python3/lib/python3.9/site-packages (from requests<3.0.0,>=2.13.0->spacy->-r requirements.txt (line 4)) (2022.9.24)\n",
      "Requirement already satisfied: idna<4,>=2.5 in /opt/anaconda/envs/Python3/lib/python3.9/site-packages (from requests<3.0.0,>=2.13.0->spacy->-r requirements.txt (line 4)) (3.4)\n",
      "Requirement already satisfied: charset-normalizer<3,>=2 in /opt/anaconda/envs/Python3/lib/python3.9/site-packages (from requests<3.0.0,>=2.13.0->spacy->-r requirements.txt (line 4)) (2.0.4)\n",
      "Requirement already satisfied: urllib3<1.27,>=1.21.1 in /opt/anaconda/envs/Python3/lib/python3.9/site-packages (from requests<3.0.0,>=2.13.0->spacy->-r requirements.txt (line 4)) (1.26.12)\n",
      "Requirement already satisfied: pygments<3.0.0,>=2.6.0 in /opt/anaconda/envs/Python3/lib/python3.9/site-packages (from rich<13.0.0,>=12.5.1->mysoc_dataset->-r requirements.txt (line 3)) (2.11.2)\n",
      "Requirement already satisfied: commonmark<0.10.0,>=0.9.0 in /opt/anaconda/envs/Python3/lib/python3.9/site-packages (from rich<13.0.0,>=12.5.1->mysoc_dataset->-r requirements.txt (line 3)) (0.9.1)\n"
     ]
    },
    {
     "name": "stdout",
     "output_type": "stream",
     "text": [
      "Requirement already satisfied: blis<0.8.0,>=0.7.8 in /opt/anaconda/envs/Python3/lib/python3.9/site-packages (from thinc<8.2.0,>=8.1.0->spacy->-r requirements.txt (line 4)) (0.7.9)\n",
      "Requirement already satisfied: confection<1.0.0,>=0.0.1 in /opt/anaconda/envs/Python3/lib/python3.9/site-packages (from thinc<8.2.0,>=8.1.0->spacy->-r requirements.txt (line 4)) (0.0.4)\n",
      "Requirement already satisfied: nvidia-cublas-cu11==11.10.3.66 in /opt/anaconda/envs/Python3/lib/python3.9/site-packages (from torch>=1.6.0->sentence-transformers->-r requirements.txt (line 6)) (11.10.3.66)\n",
      "Requirement already satisfied: nvidia-cudnn-cu11==8.5.0.96 in /opt/anaconda/envs/Python3/lib/python3.9/site-packages (from torch>=1.6.0->sentence-transformers->-r requirements.txt (line 6)) (8.5.0.96)\n",
      "Requirement already satisfied: nvidia-cuda-runtime-cu11==11.7.99 in /opt/anaconda/envs/Python3/lib/python3.9/site-packages (from torch>=1.6.0->sentence-transformers->-r requirements.txt (line 6)) (11.7.99)\n",
      "Requirement already satisfied: nvidia-cuda-nvrtc-cu11==11.7.99 in /opt/anaconda/envs/Python3/lib/python3.9/site-packages (from torch>=1.6.0->sentence-transformers->-r requirements.txt (line 6)) (11.7.99)\n",
      "Requirement already satisfied: wheel in /opt/anaconda/envs/Python3/lib/python3.9/site-packages (from nvidia-cublas-cu11==11.10.3.66->torch>=1.6.0->sentence-transformers->-r requirements.txt (line 6)) (0.37.1)\n",
      "Requirement already satisfied: tokenizers!=0.11.3,<0.14,>=0.11.1 in /opt/anaconda/envs/Python3/lib/python3.9/site-packages (from transformers<5.0.0,>=4.6.0->sentence-transformers->-r requirements.txt (line 6)) (0.13.2)\n",
      "Requirement already satisfied: MarkupSafe>=2.0 in /opt/anaconda/envs/Python3/lib/python3.9/site-packages (from jinja2->spacy->-r requirements.txt (line 4)) (2.1.1)\n",
      "Requirement already satisfied: threadpoolctl>=2.0.0 in /opt/anaconda/envs/Python3/lib/python3.9/site-packages (from scikit-learn->sentence-transformers->-r requirements.txt (line 6)) (2.2.0)\n",
      "Requirement already satisfied: pillow!=8.3.*,>=5.3.0 in /opt/anaconda/envs/Python3/lib/python3.9/site-packages (from torchvision->sentence-transformers->-r requirements.txt (line 6)) (9.2.0)\n",
      "Requirement already satisfied: six>=1.5 in /opt/anaconda/envs/Python3/lib/python3.9/site-packages (from python-dateutil>=2.8.1->pandas>=1.3.5->mysoc_dataset->-r requirements.txt (line 3)) (1.16.0)\n"
     ]
    }
   ],
   "source": [
    "!pip install -r requirements.txt"
   ]
  },
  {
   "cell_type": "markdown",
   "metadata": {},
   "source": [
    "## Semantic search\n",
    "- in model 1, took the n most frequent bigrams, and compared cosine similarity of their embeddings in SBERT\n",
    "- now we could try embedding every sentence of the corpus and then find k nearest neighbours of a embedded query.\n",
    "- question. Do you want to keep stop words, punctuation etc for embedding?\n",
    "- can we combine with named entity recognition?"
   ]
  },
  {
   "cell_type": "code",
   "execution_count": 16,
   "metadata": {},
   "outputs": [],
   "source": [
    "import faculty.datasets as datasets\n",
    "import matplotlib.pyplot as plt\n",
    "import nltk\n",
    "import numpy as np\n",
    "import pandas as pd\n",
    "import spacy\n",
    "import re\n",
    "%matplotlib inline"
   ]
  },
  {
   "cell_type": "markdown",
   "metadata": {},
   "source": [
    "## Create DataFrame\n",
    "Create dataframe of just pdfs which have text. Leaves 502/686 plans."
   ]
  },
  {
   "cell_type": "code",
   "execution_count": 8,
   "metadata": {},
   "outputs": [],
   "source": [
    "df = pd.read_excel('/project/my-society/data/raw/plans.xlsx')\n",
    "drop_cols = ['search_link','type','charset','unfound','credit','date_retrieved','time_period','scope','status',\n",
    "            'well_presented', 'baseline_analysis', 'notes', 'plan_path','file_type','website_url',\n",
    "            'authority_code', 'authority_type', 'wdtk_id',\n",
    "           'mapit_area_code', 'country', 'gss_code', 'county', 'region',\n",
    "           'population', 'unfound','credit','homepage_mention', 'dedicated_page',\n",
    "            'plan_due','title','title_checked','twitter_url','twitter_name','url','council']\n",
    "df = df.drop(drop_cols,axis=1)\n",
    "corpus = df[df['text'].notna()].text"
   ]
  },
  {
   "cell_type": "code",
   "execution_count": 21,
   "metadata": {},
   "outputs": [],
   "source": [
    "from myfunctions import clean2, is_pua"
   ]
  },
  {
   "cell_type": "markdown",
   "metadata": {},
   "source": [
    "# Better cleaning"
   ]
  },
  {
   "cell_type": "code",
   "execution_count": 22,
   "metadata": {
    "scrolled": false
   },
   "outputs": [
    {
     "data": {
      "text/plain": [
       "'carbon environment and biodiversity plan june 2021 version datejune 2021 introduction .background to this plan .welcome to torridge .the case for declaringclimate emergency.what we have already achieved .our vision .our response to the challenge .tdcs carbon footprint . 10 opportunities for torridge on the journey to carbon neutrality. 12 working with devon county council . 13 the lep and the growth strategy. 14 the role of development control in responding to the climate challenge . 15 biodiversity and the natural environment. 17 communications . 19 how our staff will help make usgreener authority . 19 supporting our members in the journey to net zero . 20 outward facing communications . 20 our priorities and plans . 21 introduction . 21 energy . 22 transport . 22 planning . 23 biodiversity . 24 waste recycling . 25 the council . 25 our communities . 27 introduction background to this plan in july 2019 torridge district council tdc declaredclimate emergency. this was in recognition of the science and evidence of the impacts that climate change is having on our environment population and communities and to acknowledge that tdc are committed to assisting in the response to this threat. this declaration committed torridge district council to reach net carbon neutrality by 2030. this plan will outline how we have aligned our organisation with this goal and will work towards meeting the commitment against climate change. we recognise that climate change islongterm threat and action needs to be taken now at every level to slow and if possible reverse these effects. tdc is committed to taking responsibility and being fully involved in this process. we recognise that we are at the heart of taking action and promoting positive changes in torridge to meet this goal. we also recognise that tdc cannot do this alone and are committed to working alongside others to achieve this important objective. we also see the opportunities that these necessary operational and lifestyle shifts will bring to help our communities and residents lead healthier more sustainable lifestyles while supporting businesses and our economy to grow and flourish in this new green future. welcome to torridge torridge district council is located within the north west of devon. the district is divided into 16 wards comprising 64 parishes and is predominantly rural. the main towns are bideford holsworthy and great torrington with almost half of the population living in or close to bideford northam and the remainder of the area fairly sparsely populated. the district is officially classified as rural 80 with at least 80 per cent of the population living in rural settlements and larger market towns. the district comprises 984 sq. km 380 sq. miles and hashigh quality natural and built environment. the large majority of land in torridge is classified as green space covering 95 938 sq. km of the districts total area. the coastline historic towns nature reserves and areas of outstanding natural beauty are valuable assets as quality of life and environment becomes an ever more important factor in choosing where to live it is likely that population growth in torridge will continue. the economy and culture of torridge has been traditionally focused on agriculture and fishing and activities linked to agriculture and food processing remainstrong feature of the local economy. torridge also benefits from its active and attractive tourism sector particularly around the seaside resorts of westward ho and appledore and the historic town of great torrington. the office for national statistics ons providedpopulation estimate for torridge in mid 2018 of 68143. the 2011 census hadtotal population of 63839 showing6.7 increase in the torridge population over that 7year period. our demographic is predominantly within the 4564 age group and our population is older than the uk average. conversely we have lower than the uk average of residents within the 25 44 age group and there isconcern that our young people are choosing not to stay in the district to pursue education and economic opportunities. between 2016 and 2041 torridges population is set to grow by 15.3 to an estimated 77300 and the age profile of the population is expected to shift dramatically withreal and proportionate increase in the oldest age groups over the 25year period. it may be useful to understand the carbon dioxide emissions from the district in the context of the other local authorities across devon. the graphic below highlights the differences between carbon emissions from rural district compared to urban locations. city areas have lower transport emissions as residents tend to be in closer proximity to amenities and therefore can walk cycle and use public transport forhigher proportion of journeys than those in rural areas. urban areas tend to be on the gas grid whereas dwellings in rural areas are more likely to rely on oil and gas islower carbon fuel. torridge in particular hassignificant number of offgas communities. rural areas have higher emissions from agriculture while manufacturing and other industrial processes tend to be located in urban areas so these areas have higher emissions associated with these activities. fig2018 greenhouse gas emissions across devon by sector with kind permission of devon county council the case for declaringclimate emergency our planets climate is changing and warming is accelerating. the intergovernmental panel on climate change ipcc has warned that we have 10 years to limit climate change to avoidcatastrophe. in response to the paris agreementspecial report on global warming1 was published in october 2018. this describes the risks that2c rise in temperature is likely to cause compared to 1.5c including increased risks to health livelihoods food security water supply human security and economic growth. the report found that limiting global warming to 1.5c would require rapid and farreaching transitions in land energy industry buildings transport and cities. the report emphasised that with ambitious action from national and sub national authorities civil society business and local communities it may still be possible to limit warming to 1.5c. in additionrecent intergovernmental panel for biodiversity and ecosystem services ipbes2 stated that around 25 of the worlds species are now at threat of extinction due to habitat loss and the effects of climate change. global temperatures have already increased by 1c from preindustrial levels. atmospheric co levels are above 400 parts per million ppm. this far exceeds the 350ppm deemed to besafe level for humanity. the latest generation of national climate projections the ukcp18 resource from the met office3 provides up to date and robust scientific evidence on projected climate changes. the general climate trend predicted by ukcp18 for the uk is an increased chance of warmer wetter winters and of hotter drier summers along with an increase in the frequency and intensity of extremes. under ukcp18 storm desmond which occurred in winter 2015 16 and caused 1.3 billion in insurance costs was deemed more than 40 more likely due to climate change. in order to reduce the chance of runaway global warming and limit the effects of climate breakdown it is imperative that co carbon equivalent emissions reduce from their current 6.5 tonnes per person per year to less thantonnes and this needs to be done as soon as possible. whilst the cause might besubject of debate for some human activity has contributed to the situation and so we havemoral duty to intervene. the risk of not acting could have profound consequences on this and future generations. for those who say that climate change is not happening we need to look at the evidence4. globally 20102019 was the warmest decade since records began in 1850 and each decade since 1980 has been warmer than the preceding one. 2019 was the second warmest year on record 2016 is currently the warmest and 2020 reached the same record level5. the uks warmest ten years ever recorded have all been since 2002.ippc report figmet office graphic showing uk annual temperature trend cooler years are blue warmer years are red. climate change is havingrange of impacts and the term global warming does not adequately express the effects its causing more extreme storms droughts heat waves melting ice ocean acidification and rising sea levels. our coastal communities and habitats are at particular risk from the acceleration in rising sea levels in 2019 the global mean sea level was at the highest ever measured6. as sea levels rise low lying and coastal areas will be at particular risk. the local planning authorities for northern devon have identified the need for formal designation of coastal change management areas in the developing revised local plan in recognition of the impacts on our coastline fromrange of factors including climate change. this is underpinned bydetailed research project in partnership with natural england the environment agency the marine management organisation and the university of plymouth. this research uses the latest projections for sea level change and particularly establishes the extent of potential flood risk across the tawtorridge estuary. in its worse case scenario modelling incorporating up to date climate change impact predictions it shows that more areas may be at risk of coastal change than previously thought7. this modelling will be used to help plan for managing future coastal change by the council and other agencies. while the new local plan will set out policies about development in those areas along with consideration of what might need to be relocated or protected the research will also assist with coastal protection work and the operation and maintenance of existing sea defences and flood risk and coastal erosion measures. however in conjunction with this it is vital that we play our part in addressing the causes of climate change as another means to mitigate these local impacts. 7the coastal change management area technical evidence and maps can be found at www.torridge.gov.uk ccma farming will also be affected by climate change. while hotter weather and higher levels of co2 may make growing some crops easier or even allow us to produce new ones with more droughts expected water may not be as easy to access making it harder to plan the growing season. some crops we grow today may also be unsuited to higher temperatures and there are risks from new pests and diseases previously unsuited to our climate. floods storms and extreme heat can cause damage to buildings disrupt transport and affect health. buildings and infrastructure need to be adapted to cope with the new conditions. businesses will have to plan aroundchanging climate bringing additional costs and challenges as they look to adapt. figmet office graphic showing the impacts of climate change. what we have already achieved torridge district council has historically been very active in the monitoring of its carbon footprint and has taken steps to reduce emissions. we developedcarbon management programme which was approved in 2009 and committed tdc to12.5 reduction in co2 by 2014. this target was met and exceeded. in the last period measured 16 17 carbon emissions had been reduced by 16.3 since the baseline year of 2008. we have already shown foresight and willingness in our sustainability ambitions and will continue to do so. examples of measures implemented under this programme include. installation of solar panels on our main building at riverbank house. the 39 kw of panels generates approximately 27000 kwh pa which is used internally and exported back to the grid. the roof at riverbank house has also had its insulation upgraded for added heat efficiency. solar panels at caddsdown 24kw of panels generates approximately 21000 kwh pa. woodchip biomass boilers are also installed at caddsdown and caddsdown blue. riverbank house has an electric vehicle charging point and we are rolling out ev charging points in our public car parks and 55kw rapid charging units have so far been installed in bideford torrington holsworthy and appledore. major refurbishments at our leisure facilities in northam holsworthy and torrington pools included heat recovery and air conditioning systems replacing old inefficient plant. solar powered car park meters have been installed at our main car parks. our construction schemes at caddsdown and tamar have won multiple sustainability awards and works have been undertaken at all of our commercial sites to improve energy efficiency standards. tdc have purchased their first electric fleet vehicle while all our waste vehicles comply with the latest euro engine standards and we are committed to including electric and other sustainable options when on renewal of any council vehicle. the measures put forward in the previous carbon management programme had an added benefit of projected savings to the council of over 300000 through reduced energy consumption investment in renewable energy and improving energy performance ratings for our estate. while some of the measures taken were significant the cost saving benefits were realised and provided incentive for action taking this process further may be more challenging in some areas. however opportunities and technology are continually advancing and measures that were considered and rejected previously may be viable now or in the future. because of this it will be necessary to keep these matters under regular review. in addition as policies change and priorities develop funding and support for implementing sustainable measures should be explored at every opportunity. we need to position ourselves to fully tap into these wider opportunities and work alongside others to achieve these objectives. cost savings are important but not the only driver of the climate change agenda that tdc has committed to. our vision by 2030 torridge district council operations will be clean efficient and net carbon neutral leading by example in our community and to our residents and businesses. we will playwider role enabling encouraging and supporting the wider district of torridge to achieve netzero ambitions. we will work with our partners including devon county council north devon biosphere and north devon council and will cooperate seek opportunities to develop projects and will take forward policies that will enhance our environment biodiversity and improve sustainability of our communities and the wellbeing of our residents. we will seek economic opportunities and improvements for our communities and businesses in the new green future promoting and directing sustainable development and seeking financial support for projects to enhance our environment and assist in reaching our carbon neutral target. we will promote our beautiful environment and rich biodiversity and torridge district asbeacon for sustainability community action and green opportunities. we will work with central government and devon county council to contribute atlocal level in the delivery of national and regional climate change biodiversity and sustainability programmes. we will work with our local communities to plan for and mitigate the effects of climate change within our district. we will seek to work with our local schools and young people to educate promote and support the next generation to take on the challenges ahead. our response to the challenge while this plan sets out tdcs road map to carbon neutrality we recognise that we need to integrate climate change and sustainability into the heart of our governance and processes. in order to achieve this we have implemented the following. strategic plan in october 2020 the full council adoptedrevised strategic plan for 202020238. this madecommitment to our environment our future and to. reduce the ecofootprint of the district to meet the councils carbon neutral target of 2030. deliver clean well maintained and managed streets parks and open spaces. provide high quality planning and development services. manage coastal and flood defences to meet the challenges of the changing climate. reduce waste and increase recycling. these priorities will form the basis of divisional business plans going forward so that all the services in the council will be aligned to and working towards these aims. specific actions that will be taken forward by us and in partnership include. relocating all waste and recycling resources to one new modern environmental centre. adopt implement monitor and report againstrevised carbon plan for tdc ensuring that climate change and biodiversity is at the heart of our governance and processes. seek carbon reduction and energy efficiency across the existing council asset base looking at options for solar generation ground and air source heating biomass and other technologies. review the north devon and torridge local plan to ensure that it remains relevant for good development that unlocks investment and opportunity protects our important natural assets and helps to create strong and resilient communities. be responsive to erosion risks and work in partnership for the protection of our coastal assets and communities. management and governance members are at the heart of decision making at tdc andmember lead for the climate has been assigned and is tasked with overseeing supporting and lobbying for sustainability and climate change to be at the forefront of council operations and policy responding effectively to need and maximise the influence of tdc as widely as possible in our communities. we have developedmember climate emergency group who are meeting regularly to feed into projects and providesounding board and feedback on actions and priorities. this group 02020agreed20by20full20council20for20consultation.pdf is formally recognised in tdcs constitution and reports and makes recommendations to the wider decisionmaking committees of the council. we have an established committee reporting procedure part of which is consideration of the impacts of policies and proposals brought before those decisionmaking bodies. climate change is an explicit matter which must be reported on as part of this process so that members can take full account of the environment when making their decisions. where specific work streams merit it we will establish specialist task and finish groups to progress and report on actions and outcomes. these will be essentially task and finish groups and will provideflexible response to issues and projects as required. these will utilise the expertise of external individuals and organisations and will promote collaborative and multiagency working to establish common goals and meet those aims. an example of this is the establishment of the torridge active travel development group tasked with identifying and developing cycling walking and other active travel options across the district which includes membership from local town councils active devon devon county and north devon councils andlocal cycling campaign group. tdcs carbon footprint it is clear that in order to meet our stated target of carbon neutrality we must measure our carbon impacts and usage accurately and regularly and use this asbasis for determining our actions and priorities over the coming years. we will regularly report on the effectiveness of our actions and demonstrate achievements. the government regularly publishes local authority and regional carbon dioxide emissions national statistics9. these provide the most reliable and consistent breakdown of estimates of co2 emissions across the country using nationally available datasets going back to 2005. these showsteady reduction in per capita emissions for torridge from 7.1 tonnes in 2005 to 4.3 tonnes in the last reporting year of 2018. this is below the average in the country but still some way off the 2tonne per capita goal set by the ippc. it is interesting to note that these improvements have come about throughsteady reduction in carbon emissions across industrial commercial and domestic sources due in large part to switch from coal in electricity generation to gas and renewables however there has beenmarginal increase in emissions from transport sources over the same period. tdcs reporting of our own carbon emissions10 very much mirrored this wider trend as measures and opportunities for carbon reduction became viable and were implemented and incorporated into our daytoday operations. emissionsnationalstatistics 10 tdc carbon management programme 2009 10 overall our main carbon impacts are seen in the following areas. property tdc haswide and diverse range of property assets some leased or rented from our leisure facilities to our hostel and homeless accommodation to the council offices and buildings themselves. the heating and lighting of these buildings fall under both scopeandemissions as explained below operational vehicles particularly in our waste collection service which provides the majority of our transport carbon usage. however business mileage is also accrued overrange of services. in addition to this we also operatecrane and pilot boat for the harbour. these will be reported as scopeemissions. there is an established methodology for assessing and reporting on the carbon footprint of an organisation as given in guidelines published by hm government environmental reporting guidelines updated march 201911 the reporting guidance identifies the main types of emission sources in three categories known as scopes. these are defined as. scope 1. direct emissions from fuel combustion such as boilers for heating buildings transport fuel used by owned or directly leased vehicles and fugitive emissions12. scope 2. indirect emissions from the consumption of purchased electricity i.e. from power stations and heat generated off site i.e. district heating. scope 3. indirect emissions from the transmission and distribution of electricity and from many other activities including products and outsourced services which are bought on behalf of the council. for most organisations these are the largest area of emissions but are acknowledged as the most difficult to measure. reporting of scopeandemissions is given as essential by the guidance. scopereporting is discretionary but desirable. we intend to carry outfull review and update to our carbon footprint to this revised guidance in order to providesound basis to plotting our route to carbon neutrality by 2030. in addition we will seek to standardise our reporting approach particularly around scopeemissions with north devon council. this way we can look to compare and contrast our carbon usage and drive improvements throughcollaborative approach with our neighbouring authority. more detail on the outcome of this process will be provided in future versions of this plan. we have already put in place measures that will allow us to monitor carbon emissions from our operations and estate on an ongoing basis and we will review revise and publish our overall carbon footprint breakdown on an annual basis. 11 0130 envreportingguidanceincsecr31march.pdf 12some equipment such as fridges and air conditioning units not only use energy but also contain chemicals which are greenhouse gases such as hydrofluorocarbons.degree of leakage is inevitable. these gases are known as fugitive emissions and good equipment maintenance can reduce the problem. 11 opportunities for torridge on the journey to carbon neutrality for too long climate change and the climate emergency has been portrayed in purely negative terms. this neednt be the case and we should look to the benefits that moving tosustainable and low carbon future can bring to our district and economy. such benefits can include but are not limited to. supporting local economic growth by harnessinglow carbon economic strategy that identifies local opportunities and supports the development of local jobs knowledge and infrastructure. generating and supporting innovation to stimulate growth and develop real social change in our communities. helping local businesses to diversify and grow sustainably to cut costs and increase competitiveness by reducing their energy water and resource use. promoting and supporting the circular economy. saving money for the council and local people by ensuring that local homes businesses and public buildings use energy and other resources efficiently. helping the most vulnerable at risk from fuel poverty and the impacts of extreme weather such as flooding overheating and cold. boosting the local economy by supporting and promoting our green tourism base protecting and marketing our natural assets and local sustainable services. generating income for the council. making the most of the councils assets to generate power enhance biodiversity and support the diversification and vibrancy of our communities in our new sustainable future. helping households save money on their energy bills and keep warm and healthy by improving the energy efficiency of local homes. promote wellbeing within our communities through the use of active travel and making our natural assets accessible to all. direct cost savings. through initiatives to reduce the councils use of energy and water and to minimise waste. pooling resources. working in partnership with others sharing services and increasing purchasing power. external funding. maximising opportunities to bring in investment through external funding mechanisms available under the emerging climate and biodiversity agendas. protection from future costs by supporting our communities to be fully prepared to manage future weatherrelated events reducing costs such as the repair and clearup from flooding and storm damage as well as the human costs of such events. embracinglow carbon biodiverse sustainable future will have huge benefits for this authority and for our communities businesses and residents. by addressing the climate and ecological emergency we have an opportunity to createfairer healthier more resilient and more prosperous society for generations to come. 12 working with devon county council devon county council have similarly declaredclimate emergency13 and since that time have been working on developing their own carbon plan in response. it has set updevon climate emergency response group dcerg tasked with coordinatingcollaborative devonwide response to the climate emergency to facilitate the reduction of carbon emissions to netzero by 2050 at the latest and prepare devon for the necessary adaptations to infrastructure and services to respond to1.5degree warmer world. tdc hasrepresentative on this group as well as the tactical group which sits beneath it and provides the practical support to the strategic group. figdevon county council structure climate response structure the climate impacts group has been tasked with reviewing levels of community adaptation forwarmer world and will report on measures that need to be implemented to ensure that our communities are suitably prepared. the net zero task force14 is tasked with developingdevon carbon plan to set devon on the path to becoming netzero by their target date. this task force is made up of leading academics and sector experts who will use its specialist knowledge and experience to produce an evidenceled devon carbon plan. this plan is currently in the stages of advanced development and it is intended that this will be taken tocitizens assembly15 to enable the views of the public to shape the final document to be put to county council members for approval. tdc are committed to continuing to be involved in this process including the integration of our own carbon plan with the wider dev'"
      ]
     },
     "execution_count": 22,
     "metadata": {},
     "output_type": "execute_result"
    }
   ],
   "source": [
    "import re\n",
    "import unicodedata\n",
    "\n",
    "def is_pua(c):\n",
    "    return unicodedata.category(c) == 'Co'\n",
    "\n",
    "abbrev = {'co2e': 'co2 emissions',\n",
    "                'ghg': 'greenhouse gas',\n",
    "                 \n",
    "                }\n",
    "\n",
    "\n",
    "def clean2(text):\n",
    "\n",
    "    text = ' '.join(text.split())\n",
    "    text = re.sub(\"\\S*@\\S*\\s?\", \" \",text) #remove emails\n",
    "    text = re.sub('http\\S+', '', text) #remove websites\n",
    "    text = text.replace('x000C','') #remove this weird thing\n",
    "    text = \"\".join([char for char in text if not is_pua(char)]) #remove unicode defects\n",
    "#     text = re.sub('www\\S+', '', text)\n",
    "    text = re.sub(\"[^A-Za-z0-9.'/: ]\",'',text) #could move this later\n",
    "    text = re.sub(\"\\s\\w\\s|\\b\\w\\b\",'',text)\n",
    "    text = re.sub(\"\\-\", \" \",text)\n",
    "    text = re.sub(\"/\", \" \",text)\n",
    "    text = re.sub(\"\\s\\s+\", \" \", text)\n",
    "    text = re.sub(\"\\.\\.+\", \".\", text)\n",
    "    text = re.sub(\":\", '.',text)\n",
    "    #check capitalisation of x and c\n",
    "    text = text.lower()\n",
    "    text = text.replace('qtr','quarter')\n",
    "    return text\n",
    "\n",
    "test = corpus.sample(1,random_state = 455).iloc[0]\n",
    "\n",
    "\n",
    "clean2(test)"
   ]
  },
  {
   "cell_type": "markdown",
   "metadata": {},
   "source": [
    "## Sentence tokenization"
   ]
  },
  {
   "cell_type": "code",
   "execution_count": 23,
   "metadata": {},
   "outputs": [
    {
     "name": "stderr",
     "output_type": "stream",
     "text": [
      "[nltk_data] Downloading package punkt to /home/faculty/nltk_data...\n",
      "[nltk_data]   Package punkt is already up-to-date!\n",
      "[nltk_data] Downloading package stopwords to\n",
      "[nltk_data]     /home/faculty/nltk_data...\n",
      "[nltk_data]   Package stopwords is already up-to-date!\n"
     ]
    },
    {
     "ename": "NameError",
     "evalue": "name 'tokenize' is not defined",
     "output_type": "error",
     "traceback": [
      "\u001b[0;31m---------------------------------------------------------------------------\u001b[0m",
      "\u001b[0;31mNameError\u001b[0m                                 Traceback (most recent call last)",
      "\u001b[0;32m/tmp/ipykernel_124/737462787.py\u001b[0m in \u001b[0;36m<module>\u001b[0;34m\u001b[0m\n\u001b[1;32m      6\u001b[0m \u001b[0mtest\u001b[0m \u001b[0;34m=\u001b[0m \u001b[0mcorpus\u001b[0m\u001b[0;34m.\u001b[0m\u001b[0msample\u001b[0m\u001b[0;34m(\u001b[0m\u001b[0;36m1\u001b[0m\u001b[0;34m,\u001b[0m\u001b[0mrandom_state\u001b[0m \u001b[0;34m=\u001b[0m \u001b[0;36m65\u001b[0m\u001b[0;34m)\u001b[0m\u001b[0;34m.\u001b[0m\u001b[0miloc\u001b[0m\u001b[0;34m[\u001b[0m\u001b[0;36m0\u001b[0m\u001b[0;34m]\u001b[0m\u001b[0;34m\u001b[0m\u001b[0;34m\u001b[0m\u001b[0m\n\u001b[1;32m      7\u001b[0m \u001b[0;34m\u001b[0m\u001b[0m\n\u001b[0;32m----> 8\u001b[0;31m \u001b[0mtokentest\u001b[0m \u001b[0;34m=\u001b[0m \u001b[0mtokenize\u001b[0m\u001b[0;34m.\u001b[0m\u001b[0msent_tokenize\u001b[0m\u001b[0;34m(\u001b[0m\u001b[0mclean2\u001b[0m\u001b[0;34m(\u001b[0m\u001b[0mtest\u001b[0m\u001b[0;34m)\u001b[0m\u001b[0;34m)\u001b[0m\u001b[0;34m\u001b[0m\u001b[0;34m\u001b[0m\u001b[0m\n\u001b[0m\u001b[1;32m      9\u001b[0m \u001b[0mtokentest\u001b[0m\u001b[0;34m\u001b[0m\u001b[0;34m\u001b[0m\u001b[0m\n",
      "\u001b[0;31mNameError\u001b[0m: name 'tokenize' is not defined"
     ]
    }
   ],
   "source": [
    "nltk.download('punkt')\n",
    "nltk.download(\"stopwords\")\n",
    "from nltk.corpus import stopwords\n",
    "\n",
    "\n",
    "test = corpus.sample(1,random_state = 65).iloc[0]\n",
    "\n",
    "tokentest = tokenize.sent_tokenize(clean2(test))\n",
    "tokentest\n"
   ]
  },
  {
   "cell_type": "markdown",
   "metadata": {},
   "source": [
    "## Embedding in sBERT"
   ]
  },
  {
   "cell_type": "code",
   "execution_count": 24,
   "metadata": {},
   "outputs": [
    {
     "name": "stdout",
     "output_type": "stream",
     "text": [
      "/bin/bash: /opt/anaconda/envs/Python3/lib/libtinfo.so.6: no version information available (required by /bin/bash)\n",
      "\u001b[1m\n",
      "         .:::.     .::.       \n",
      "        ....yy:    .yy.       \n",
      "        :.  .yy.    y.        \n",
      "             :y:   .:         \n",
      "             .yy  .:          \n",
      "              yy..:           \n",
      "              :y:.            \n",
      "              .y.             \n",
      "             .:.              \n",
      "        ....:.                \n",
      "        :::.                  \n",
      "\u001b[0;33m\n",
      "• Project files and data should be stored in /project. This is shared among everyone\n",
      "  in the project.\n",
      "• Personal files and configuration should be stored in /home/faculty.\n",
      "• Files outside /project and /home/faculty will be lost when this server is terminated.\n",
      "• Create custom environments to setup your servers reproducibly.\n",
      "\u001b[0m\n",
      "bash: /opt/anaconda/envs/Python3/lib/libtinfo.so.6: no version information available (required by bash)\n",
      "Requirement already satisfied: sentence-transformers in /opt/anaconda/envs/Python3/lib/python3.9/site-packages (2.2.2)\n",
      "Requirement already satisfied: torch>=1.6.0 in /opt/anaconda/envs/Python3/lib/python3.9/site-packages (from sentence-transformers) (1.13.1)\n",
      "Requirement already satisfied: transformers<5.0.0,>=4.6.0 in /opt/anaconda/envs/Python3/lib/python3.9/site-packages (from sentence-transformers) (4.26.1)\n",
      "Requirement already satisfied: torchvision in /opt/anaconda/envs/Python3/lib/python3.9/site-packages (from sentence-transformers) (0.14.1)\n",
      "Requirement already satisfied: scikit-learn in /opt/anaconda/envs/Python3/lib/python3.9/site-packages (from sentence-transformers) (1.0.2)\n",
      "Requirement already satisfied: nltk in /opt/anaconda/envs/Python3/lib/python3.9/site-packages (from sentence-transformers) (3.7)\n",
      "Requirement already satisfied: huggingface-hub>=0.4.0 in /opt/anaconda/envs/Python3/lib/python3.9/site-packages (from sentence-transformers) (0.12.1)\n",
      "Requirement already satisfied: scipy in /opt/anaconda/envs/Python3/lib/python3.9/site-packages (from sentence-transformers) (1.7.3)\n",
      "Requirement already satisfied: sentencepiece in /opt/anaconda/envs/Python3/lib/python3.9/site-packages (from sentence-transformers) (0.1.97)\n",
      "Requirement already satisfied: tqdm in /opt/anaconda/envs/Python3/lib/python3.9/site-packages (from sentence-transformers) (4.64.1)\n",
      "Requirement already satisfied: numpy in /opt/anaconda/envs/Python3/lib/python3.9/site-packages (from sentence-transformers) (1.21.5)\n",
      "Requirement already satisfied: requests in /opt/anaconda/envs/Python3/lib/python3.9/site-packages (from huggingface-hub>=0.4.0->sentence-transformers) (2.28.1)\n",
      "Requirement already satisfied: filelock in /opt/anaconda/envs/Python3/lib/python3.9/site-packages (from huggingface-hub>=0.4.0->sentence-transformers) (3.6.0)\n",
      "Requirement already satisfied: pyyaml>=5.1 in /opt/anaconda/envs/Python3/lib/python3.9/site-packages (from huggingface-hub>=0.4.0->sentence-transformers) (6.0)\n",
      "Requirement already satisfied: packaging>=20.9 in /opt/anaconda/envs/Python3/lib/python3.9/site-packages (from huggingface-hub>=0.4.0->sentence-transformers) (21.3)\n",
      "Requirement already satisfied: typing-extensions>=3.7.4.3 in /opt/anaconda/envs/Python3/lib/python3.9/site-packages (from huggingface-hub>=0.4.0->sentence-transformers) (4.4.0)\n",
      "Requirement already satisfied: nvidia-cublas-cu11==11.10.3.66 in /opt/anaconda/envs/Python3/lib/python3.9/site-packages (from torch>=1.6.0->sentence-transformers) (11.10.3.66)\n",
      "Requirement already satisfied: nvidia-cuda-runtime-cu11==11.7.99 in /opt/anaconda/envs/Python3/lib/python3.9/site-packages (from torch>=1.6.0->sentence-transformers) (11.7.99)\n",
      "Requirement already satisfied: nvidia-cudnn-cu11==8.5.0.96 in /opt/anaconda/envs/Python3/lib/python3.9/site-packages (from torch>=1.6.0->sentence-transformers) (8.5.0.96)\n",
      "Requirement already satisfied: nvidia-cuda-nvrtc-cu11==11.7.99 in /opt/anaconda/envs/Python3/lib/python3.9/site-packages (from torch>=1.6.0->sentence-transformers) (11.7.99)\n",
      "Requirement already satisfied: setuptools in /opt/anaconda/envs/Python3/lib/python3.9/site-packages (from nvidia-cublas-cu11==11.10.3.66->torch>=1.6.0->sentence-transformers) (65.5.0)\n",
      "Requirement already satisfied: wheel in /opt/anaconda/envs/Python3/lib/python3.9/site-packages (from nvidia-cublas-cu11==11.10.3.66->torch>=1.6.0->sentence-transformers) (0.37.1)\n",
      "Requirement already satisfied: regex!=2019.12.17 in /opt/anaconda/envs/Python3/lib/python3.9/site-packages (from transformers<5.0.0,>=4.6.0->sentence-transformers) (2022.7.9)\n",
      "Requirement already satisfied: tokenizers!=0.11.3,<0.14,>=0.11.1 in /opt/anaconda/envs/Python3/lib/python3.9/site-packages (from transformers<5.0.0,>=4.6.0->sentence-transformers) (0.13.2)\n",
      "Requirement already satisfied: joblib in /opt/anaconda/envs/Python3/lib/python3.9/site-packages (from nltk->sentence-transformers) (1.1.1)\n",
      "Requirement already satisfied: click in /opt/anaconda/envs/Python3/lib/python3.9/site-packages (from nltk->sentence-transformers) (8.0.4)\n",
      "Requirement already satisfied: threadpoolctl>=2.0.0 in /opt/anaconda/envs/Python3/lib/python3.9/site-packages (from scikit-learn->sentence-transformers) (2.2.0)\n",
      "Requirement already satisfied: pillow!=8.3.*,>=5.3.0 in /opt/anaconda/envs/Python3/lib/python3.9/site-packages (from torchvision->sentence-transformers) (9.2.0)\n",
      "Requirement already satisfied: pyparsing!=3.0.5,>=2.0.2 in /opt/anaconda/envs/Python3/lib/python3.9/site-packages (from packaging>=20.9->huggingface-hub>=0.4.0->sentence-transformers) (3.0.9)\n",
      "Requirement already satisfied: charset-normalizer<3,>=2 in /opt/anaconda/envs/Python3/lib/python3.9/site-packages (from requests->huggingface-hub>=0.4.0->sentence-transformers) (2.0.4)\n",
      "Requirement already satisfied: certifi>=2017.4.17 in /opt/anaconda/envs/Python3/lib/python3.9/site-packages (from requests->huggingface-hub>=0.4.0->sentence-transformers) (2022.9.24)\n",
      "Requirement already satisfied: idna<4,>=2.5 in /opt/anaconda/envs/Python3/lib/python3.9/site-packages (from requests->huggingface-hub>=0.4.0->sentence-transformers) (3.4)\n",
      "Requirement already satisfied: urllib3<1.27,>=1.21.1 in /opt/anaconda/envs/Python3/lib/python3.9/site-packages (from requests->huggingface-hub>=0.4.0->sentence-transformers) (1.26.12)\n"
     ]
    }
   ],
   "source": [
    "!pip install -U sentence-transformers\n"
   ]
  },
  {
   "cell_type": "code",
   "execution_count": 27,
   "metadata": {},
   "outputs": [
    {
     "name": "stdout",
     "output_type": "stream",
     "text": [
      "Similarity: tensor([[0.1046]])\n"
     ]
    }
   ],
   "source": [
    "import os\n",
    "os.environ[\"HF_ENDPOINT\"] = \"https://huggingface.co\"\n",
    "\n",
    "from sentence_transformers import SentenceTransformer, util\n",
    "model = SentenceTransformer('msmarco-distilbert-base-v3')\n",
    "\n",
    "query_embedding = model.encode('clean air')\n",
    "passage_embedding = model.encode(\"\"\"reason for to allow the council to meet \n",
    "                                 its commitments under the recommendations climate \n",
    "                                 and ecological emergency declaration and help global \n",
    "                                 efforts to keep climate warming below 1.5oc to avoid \n",
    "                                 further environmental damage population displacement \n",
    "                                 biodiversity loss and risk to life.\"\"\")\n",
    "\n",
    "print(\"Similarity:\", util.cos_sim(query_embedding, passage_embedding))"
   ]
  },
  {
   "cell_type": "code",
   "execution_count": null,
   "metadata": {},
   "outputs": [],
   "source": []
  }
 ],
 "metadata": {
  "kernelspec": {
   "display_name": "Python [conda env:Python3] *",
   "language": "python",
   "name": "conda-env-Python3-py"
  },
  "language_info": {
   "codemirror_mode": {
    "name": "ipython",
    "version": 3
   },
   "file_extension": ".py",
   "mimetype": "text/x-python",
   "name": "python",
   "nbconvert_exporter": "python",
   "pygments_lexer": "ipython3",
   "version": "3.9.15"
  }
 },
 "nbformat": 4,
 "nbformat_minor": 2
}
