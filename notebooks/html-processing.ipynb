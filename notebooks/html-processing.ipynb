{
 "cells": [
  {
   "cell_type": "code",
   "execution_count": 2,
   "metadata": {},
   "outputs": [
    {
     "name": "stderr",
     "output_type": "stream",
     "text": [
      "2023-02-28 15:58:40.202374: W tensorflow/stream_executor/platform/default/dso_loader.cc:64] Could not load dynamic library 'libcuda.so.1'; dlerror: libcuda.so.1: cannot open shared object file: No such file or directory; LD_LIBRARY_PATH: /opt/anaconda/envs/Python3/lib:\n",
      "2023-02-28 15:58:40.202431: W tensorflow/stream_executor/cuda/cuda_driver.cc:269] failed call to cuInit: UNKNOWN ERROR (303)\n",
      "2023-02-28 15:58:40.202465: I tensorflow/stream_executor/cuda/cuda_diagnostics.cc:156] kernel driver does not appear to be running on this host (cube-b2f6b542-b29a-4672-9ac9-c005bf019a65-844657fdc8-8rszg): /proc/driver/nvidia/version does not exist\n"
     ]
    }
   ],
   "source": [
    "import faculty.datasets as datasets\n",
    "import matplotlib.pyplot as plt\n",
    "import nltk\n",
    "import numpy as np\n",
    "import pandas as pd\n",
    "import spacy\n",
    "%matplotlib inline"
   ]
  },
  {
   "cell_type": "code",
   "execution_count": 4,
   "metadata": {},
   "outputs": [
    {
     "data": {
      "text/plain": [
       "Index(['council', 'search_link', 'unfound', 'credit', 'url', 'date_retrieved',\n",
       "       'time_period', 'type', 'scope', 'status', 'homepage_mention',\n",
       "       'dedicated_page', 'well_presented', 'baseline_analysis', 'notes',\n",
       "       'plan_due', 'title', 'title_checked', 'plan_path', 'file_type',\n",
       "       'charset', 'authority_code', 'authority_type', 'wdtk_id',\n",
       "       'mapit_area_code', 'country', 'gss_code', 'county', 'region',\n",
       "       'population', 'website_url', 'twitter_url', 'twitter_name', 'text'],\n",
       "      dtype='object')"
      ]
     },
     "execution_count": 4,
     "metadata": {},
     "output_type": "execute_result"
    }
   ],
   "source": [
    "df = pd.read_excel('/project/my-society/data/raw/plans.xlsx')\n",
    "drop_cols = ['unfound','credit','date_retrieved','time_period','scope','status',\n",
    "            'well_presented', 'baseline_analysis', 'notes',\n",
    "            'authority_code', 'authority_type', 'wdtk_id',\n",
    "           'mapit_area_code', 'country', 'gss_code', 'county', 'region',\n",
    "           'population', 'unfound','credit','homepage_mention', 'dedicated_page',\n",
    "            'plan_due','title','title_checked','twitter_url','twitter_name']\n",
    "# df = df.drop(drop_cols,axis=1)\n",
    "df.columns"
   ]
  },
  {
   "cell_type": "code",
   "execution_count": 5,
   "metadata": {},
   "outputs": [
    {
     "data": {
      "text/html": [
       "<div>\n",
       "<style scoped>\n",
       "    .dataframe tbody tr th:only-of-type {\n",
       "        vertical-align: middle;\n",
       "    }\n",
       "\n",
       "    .dataframe tbody tr th {\n",
       "        vertical-align: top;\n",
       "    }\n",
       "\n",
       "    .dataframe thead th {\n",
       "        text-align: right;\n",
       "    }\n",
       "</style>\n",
       "<table border=\"1\" class=\"dataframe\">\n",
       "  <thead>\n",
       "    <tr style=\"text-align: right;\">\n",
       "      <th></th>\n",
       "      <th>council</th>\n",
       "      <th>search_link</th>\n",
       "      <th>unfound</th>\n",
       "      <th>credit</th>\n",
       "      <th>url</th>\n",
       "      <th>date_retrieved</th>\n",
       "      <th>time_period</th>\n",
       "      <th>type</th>\n",
       "      <th>scope</th>\n",
       "      <th>status</th>\n",
       "      <th>...</th>\n",
       "      <th>mapit_area_code</th>\n",
       "      <th>country</th>\n",
       "      <th>gss_code</th>\n",
       "      <th>county</th>\n",
       "      <th>region</th>\n",
       "      <th>population</th>\n",
       "      <th>website_url</th>\n",
       "      <th>twitter_url</th>\n",
       "      <th>twitter_name</th>\n",
       "      <th>text</th>\n",
       "    </tr>\n",
       "  </thead>\n",
       "  <tbody>\n",
       "    <tr>\n",
       "      <th>373</th>\n",
       "      <td>North East Derbyshire District Council</td>\n",
       "      <td>https://www.google.com/search?q=North+East+Der...</td>\n",
       "      <td>NaN</td>\n",
       "      <td>CMa</td>\n",
       "      <td>https://www.dropbox.com/s/m18ubpxzm5uwxof/Nort...</td>\n",
       "      <td>01/02/2020</td>\n",
       "      <td>2019-2030</td>\n",
       "      <td>Action plan</td>\n",
       "      <td>NaN</td>\n",
       "      <td>Approved</td>\n",
       "      <td>...</td>\n",
       "      <td>DIS</td>\n",
       "      <td>England</td>\n",
       "      <td>E07000038</td>\n",
       "      <td>DBY</td>\n",
       "      <td>East Midlands</td>\n",
       "      <td>102216</td>\n",
       "      <td>https://www.ne-derbyshire.gov.uk/</td>\n",
       "      <td>NaN</td>\n",
       "      <td>NaN</td>\n",
       "      <td>NaN</td>\n",
       "    </tr>\n",
       "  </tbody>\n",
       "</table>\n",
       "<p>1 rows × 34 columns</p>\n",
       "</div>"
      ],
      "text/plain": [
       "                                    council  \\\n",
       "373  North East Derbyshire District Council   \n",
       "\n",
       "                                           search_link unfound credit  \\\n",
       "373  https://www.google.com/search?q=North+East+Der...     NaN    CMa   \n",
       "\n",
       "                                                   url date_retrieved  \\\n",
       "373  https://www.dropbox.com/s/m18ubpxzm5uwxof/Nort...     01/02/2020   \n",
       "\n",
       "    time_period         type scope    status  ... mapit_area_code  country  \\\n",
       "373   2019-2030  Action plan   NaN  Approved  ...             DIS  England   \n",
       "\n",
       "      gss_code county         region population  \\\n",
       "373  E07000038    DBY  East Midlands     102216   \n",
       "\n",
       "                           website_url twitter_url twitter_name text  \n",
       "373  https://www.ne-derbyshire.gov.uk/         NaN          NaN  NaN  \n",
       "\n",
       "[1 rows x 34 columns]"
      ]
     },
     "execution_count": 5,
     "metadata": {},
     "output_type": "execute_result"
    }
   ],
   "source": [
    "df.loc[(df['file_type'] == 'pdf') & (df['text'].isna())] #373 NE derbyshire district is pdf but no text pulled\n"
   ]
  },
  {
   "cell_type": "code",
   "execution_count": 136,
   "metadata": {
    "scrolled": true
   },
   "outputs": [
    {
     "data": {
      "text/html": [
       "<div>\n",
       "<style scoped>\n",
       "    .dataframe tbody tr th:only-of-type {\n",
       "        vertical-align: middle;\n",
       "    }\n",
       "\n",
       "    .dataframe tbody tr th {\n",
       "        vertical-align: top;\n",
       "    }\n",
       "\n",
       "    .dataframe thead th {\n",
       "        text-align: right;\n",
       "    }\n",
       "</style>\n",
       "<table border=\"1\" class=\"dataframe\">\n",
       "  <thead>\n",
       "    <tr style=\"text-align: right;\">\n",
       "      <th></th>\n",
       "      <th>council</th>\n",
       "      <th>text</th>\n",
       "    </tr>\n",
       "    <tr>\n",
       "      <th>file_type</th>\n",
       "      <th></th>\n",
       "      <th></th>\n",
       "    </tr>\n",
       "  </thead>\n",
       "  <tbody>\n",
       "    <tr>\n",
       "      <th>docx</th>\n",
       "      <td>5</td>\n",
       "      <td>0</td>\n",
       "    </tr>\n",
       "    <tr>\n",
       "      <th>html</th>\n",
       "      <td>124</td>\n",
       "      <td>17</td>\n",
       "    </tr>\n",
       "    <tr>\n",
       "      <th>pdf</th>\n",
       "      <td>503</td>\n",
       "      <td>502</td>\n",
       "    </tr>\n",
       "    <tr>\n",
       "      <th>xlsm</th>\n",
       "      <td>1</td>\n",
       "      <td>0</td>\n",
       "    </tr>\n",
       "    <tr>\n",
       "      <th>xlsx</th>\n",
       "      <td>2</td>\n",
       "      <td>0</td>\n",
       "    </tr>\n",
       "    <tr>\n",
       "      <th>NaN</th>\n",
       "      <td>51</td>\n",
       "      <td>0</td>\n",
       "    </tr>\n",
       "  </tbody>\n",
       "</table>\n",
       "</div>"
      ],
      "text/plain": [
       "           council  text\n",
       "file_type               \n",
       "docx             5     0\n",
       "html           124    17\n",
       "pdf            503   502\n",
       "xlsm             1     0\n",
       "xlsx             2     0\n",
       "NaN             51     0"
      ]
     },
     "execution_count": 136,
     "metadata": {},
     "output_type": "execute_result"
    }
   ],
   "source": [
    "df[['file_type','council','text']].groupby('file_type',dropna=False).count()"
   ]
  },
  {
   "cell_type": "markdown",
   "metadata": {},
   "source": [
    "Loading in html files"
   ]
  },
  {
   "cell_type": "code",
   "execution_count": 69,
   "metadata": {},
   "outputs": [
    {
     "data": {
      "text/html": [
       "<div>\n",
       "<style scoped>\n",
       "    .dataframe tbody tr th:only-of-type {\n",
       "        vertical-align: middle;\n",
       "    }\n",
       "\n",
       "    .dataframe tbody tr th {\n",
       "        vertical-align: top;\n",
       "    }\n",
       "\n",
       "    .dataframe thead th {\n",
       "        text-align: right;\n",
       "    }\n",
       "</style>\n",
       "<table border=\"1\" class=\"dataframe\">\n",
       "  <thead>\n",
       "    <tr style=\"text-align: right;\">\n",
       "      <th></th>\n",
       "      <th>council</th>\n",
       "      <th>search_link</th>\n",
       "      <th>url</th>\n",
       "      <th>type</th>\n",
       "      <th>plan_path</th>\n",
       "      <th>file_type</th>\n",
       "      <th>charset</th>\n",
       "      <th>website_url</th>\n",
       "      <th>text</th>\n",
       "    </tr>\n",
       "  </thead>\n",
       "  <tbody>\n",
       "    <tr>\n",
       "      <th>count</th>\n",
       "      <td>51</td>\n",
       "      <td>50</td>\n",
       "      <td>0</td>\n",
       "      <td>8</td>\n",
       "      <td>0</td>\n",
       "      <td>0</td>\n",
       "      <td>0</td>\n",
       "      <td>51</td>\n",
       "      <td>0</td>\n",
       "    </tr>\n",
       "    <tr>\n",
       "      <th>unique</th>\n",
       "      <td>51</td>\n",
       "      <td>50</td>\n",
       "      <td>0</td>\n",
       "      <td>4</td>\n",
       "      <td>0</td>\n",
       "      <td>0</td>\n",
       "      <td>0</td>\n",
       "      <td>51</td>\n",
       "      <td>0</td>\n",
       "    </tr>\n",
       "    <tr>\n",
       "      <th>top</th>\n",
       "      <td>Aberdeenshire Council</td>\n",
       "      <td>https://www.google.com/search?q=Aberdeenshire+...</td>\n",
       "      <td>NaN</td>\n",
       "      <td>Action plan</td>\n",
       "      <td>NaN</td>\n",
       "      <td>NaN</td>\n",
       "      <td>NaN</td>\n",
       "      <td>https://www.aberdeenshire.gov.uk</td>\n",
       "      <td>NaN</td>\n",
       "    </tr>\n",
       "    <tr>\n",
       "      <th>freq</th>\n",
       "      <td>1</td>\n",
       "      <td>1</td>\n",
       "      <td>NaN</td>\n",
       "      <td>5</td>\n",
       "      <td>NaN</td>\n",
       "      <td>NaN</td>\n",
       "      <td>NaN</td>\n",
       "      <td>1</td>\n",
       "      <td>NaN</td>\n",
       "    </tr>\n",
       "  </tbody>\n",
       "</table>\n",
       "</div>"
      ],
      "text/plain": [
       "                      council  \\\n",
       "count                      51   \n",
       "unique                     51   \n",
       "top     Aberdeenshire Council   \n",
       "freq                        1   \n",
       "\n",
       "                                              search_link  url         type  \\\n",
       "count                                                  50    0            8   \n",
       "unique                                                 50    0            4   \n",
       "top     https://www.google.com/search?q=Aberdeenshire+...  NaN  Action plan   \n",
       "freq                                                    1  NaN            5   \n",
       "\n",
       "       plan_path file_type charset                       website_url text  \n",
       "count          0         0       0                                51    0  \n",
       "unique         0         0       0                                51    0  \n",
       "top          NaN       NaN     NaN  https://www.aberdeenshire.gov.uk  NaN  \n",
       "freq         NaN       NaN     NaN                                 1  NaN  "
      ]
     },
     "execution_count": 69,
     "metadata": {},
     "output_type": "execute_result"
    }
   ],
   "source": [
    "df.loc[df['file_type'].isnull()].describe()"
   ]
  },
  {
   "cell_type": "code",
   "execution_count": 97,
   "metadata": {},
   "outputs": [],
   "source": [
    "urls = []\n",
    "for idx in df.loc[df['file_type'] == 'html'].index:\n",
    "    urls.append(df.loc[df['file_type'] == 'html']['url'][idx])"
   ]
  },
  {
   "cell_type": "code",
   "execution_count": 112,
   "metadata": {},
   "outputs": [],
   "source": [
    "# !pip install trafilatura"
   ]
  },
  {
   "cell_type": "code",
   "execution_count": 101,
   "metadata": {},
   "outputs": [],
   "source": [
    "import requests\n",
    "import trafilatura\n",
    "text_content = trafilatura.extract(requests.get(urls[0]).text)"
   ]
  },
  {
   "cell_type": "code",
   "execution_count": null,
   "metadata": {
    "scrolled": false
   },
   "outputs": [],
   "source": [
    "for idx in df.loc[(df['file_type'] == 'html') & (df['text'].isnull())].index:\n",
    "#     try:\n",
    "    print('url at index ', idx, 'good')\n",
    "    url = df['url'][idx]\n",
    "#     text = trafilatura.extract(requests.get(url).text)\n",
    "    print(url)\n",
    "#     print(text)\n",
    "#     df.loc[idx, 'text'] = text\n",
    "#     except:\n",
    "#         print()"
   ]
  },
  {
   "cell_type": "code",
   "execution_count": null,
   "metadata": {},
   "outputs": [],
   "source": [
    "text = trafilatura.extract(requests.get().text)"
   ]
  },
  {
   "cell_type": "code",
   "execution_count": 129,
   "metadata": {},
   "outputs": [
    {
     "data": {
      "text/plain": [
       "Int64Index([121, 126, 128, 147, 149, 150, 152, 162, 183, 202,\n",
       "            ...\n",
       "            649, 651, 655, 658, 663, 669, 672, 676, 678, 679],\n",
       "           dtype='int64', length=107)"
      ]
     },
     "execution_count": 129,
     "metadata": {},
     "output_type": "execute_result"
    }
   ],
   "source": [
    "df.loc[(df['file_type'] == 'html') & (df['text'].isnull())].index"
   ]
  },
  {
   "cell_type": "code",
   "execution_count": 130,
   "metadata": {},
   "outputs": [
    {
     "data": {
      "text/html": [
       "<div>\n",
       "<style scoped>\n",
       "    .dataframe tbody tr th:only-of-type {\n",
       "        vertical-align: middle;\n",
       "    }\n",
       "\n",
       "    .dataframe tbody tr th {\n",
       "        vertical-align: top;\n",
       "    }\n",
       "\n",
       "    .dataframe thead th {\n",
       "        text-align: right;\n",
       "    }\n",
       "</style>\n",
       "<table border=\"1\" class=\"dataframe\">\n",
       "  <thead>\n",
       "    <tr style=\"text-align: right;\">\n",
       "      <th></th>\n",
       "      <th>council</th>\n",
       "      <th>text</th>\n",
       "    </tr>\n",
       "    <tr>\n",
       "      <th>file_type</th>\n",
       "      <th></th>\n",
       "      <th></th>\n",
       "    </tr>\n",
       "  </thead>\n",
       "  <tbody>\n",
       "    <tr>\n",
       "      <th>docx</th>\n",
       "      <td>5</td>\n",
       "      <td>0</td>\n",
       "    </tr>\n",
       "    <tr>\n",
       "      <th>html</th>\n",
       "      <td>124</td>\n",
       "      <td>17</td>\n",
       "    </tr>\n",
       "    <tr>\n",
       "      <th>pdf</th>\n",
       "      <td>503</td>\n",
       "      <td>502</td>\n",
       "    </tr>\n",
       "    <tr>\n",
       "      <th>xlsm</th>\n",
       "      <td>1</td>\n",
       "      <td>0</td>\n",
       "    </tr>\n",
       "    <tr>\n",
       "      <th>xlsx</th>\n",
       "      <td>2</td>\n",
       "      <td>0</td>\n",
       "    </tr>\n",
       "    <tr>\n",
       "      <th>NaN</th>\n",
       "      <td>51</td>\n",
       "      <td>0</td>\n",
       "    </tr>\n",
       "  </tbody>\n",
       "</table>\n",
       "</div>"
      ],
      "text/plain": [
       "           council  text\n",
       "file_type               \n",
       "docx             5     0\n",
       "html           124    17\n",
       "pdf            503   502\n",
       "xlsm             1     0\n",
       "xlsx             2     0\n",
       "NaN             51     0"
      ]
     },
     "execution_count": 130,
     "metadata": {},
     "output_type": "execute_result"
    }
   ],
   "source": [
    "df[['file_type','council','text']].groupby('file_type',dropna=False).count() #have added 17 plans "
   ]
  },
  {
   "cell_type": "code",
   "execution_count": 141,
   "metadata": {},
   "outputs": [],
   "source": [
    "# print(df.loc[(df['file_type'] == 'html')]['text'][12])"
   ]
  },
  {
   "cell_type": "code",
   "execution_count": null,
   "metadata": {},
   "outputs": [],
   "source": []
  }
 ],
 "metadata": {
  "kernelspec": {
   "display_name": "Python [conda env:Python3] *",
   "language": "python",
   "name": "conda-env-Python3-py"
  },
  "language_info": {
   "codemirror_mode": {
    "name": "ipython",
    "version": 3
   },
   "file_extension": ".py",
   "mimetype": "text/x-python",
   "name": "python",
   "nbconvert_exporter": "python",
   "pygments_lexer": "ipython3",
   "version": "3.9.15"
  }
 },
 "nbformat": 4,
 "nbformat_minor": 2
}
