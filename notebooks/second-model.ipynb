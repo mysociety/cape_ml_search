{
 "cells": [
  {
   "cell_type": "code",
   "execution_count": 33,
   "metadata": {},
   "outputs": [],
   "source": [
    "# !pip install -r requirements.txt"
   ]
  },
  {
   "cell_type": "markdown",
   "metadata": {},
   "source": [
    "## Semantic search\n",
    "- in model 1, took the n most frequent bigrams, and compared cosine similarity of their embeddings in SBERT\n",
    "- now we could try embedding every sentence of the corpus and then find k nearest neighbours of a embedded query.\n",
    "- question. Do you want to keep stop words, punctuation etc for embedding?\n",
    "- can we combine with named entity recognition?"
   ]
  },
  {
   "cell_type": "code",
   "execution_count": 1,
   "metadata": {},
   "outputs": [
    {
     "name": "stderr",
     "output_type": "stream",
     "text": [
      "2023-03-06 21:39:21.571770: W tensorflow/stream_executor/platform/default/dso_loader.cc:64] Could not load dynamic library 'libcuda.so.1'; dlerror: libcuda.so.1: cannot open shared object file: No such file or directory; LD_LIBRARY_PATH: /opt/anaconda/envs/Python3/lib:\n",
      "2023-03-06 21:39:21.571834: W tensorflow/stream_executor/cuda/cuda_driver.cc:269] failed call to cuInit: UNKNOWN ERROR (303)\n",
      "2023-03-06 21:39:21.571860: I tensorflow/stream_executor/cuda/cuda_diagnostics.cc:156] kernel driver does not appear to be running on this host (cube-28dd6833-92cf-4219-8e40-4c56594541f0-54876db7d5-78kjt): /proc/driver/nvidia/version does not exist\n"
     ]
    }
   ],
   "source": [
    "import faculty.datasets as datasets\n",
    "import matplotlib.pyplot as plt\n",
    "import nltk\n",
    "import numpy as np\n",
    "import pandas as pd\n",
    "import spacy\n",
    "import re\n",
    "from utils import clean2, is_pua\n",
    "from sentence_transformers import SentenceTransformer\n",
    "import pickle\n",
    "%matplotlib inline"
   ]
  },
  {
   "cell_type": "markdown",
   "metadata": {},
   "source": [
    "## Create DataFrame\n",
    "Create dataframe of just pdfs which have text. Leaves 502/686 plans."
   ]
  },
  {
   "cell_type": "code",
   "execution_count": 9,
   "metadata": {},
   "outputs": [],
   "source": [
    "df = pd.read_excel('../data/raw/plans.xlsx')\n",
    "drop_cols = ['search_link','type','charset','unfound','credit','date_retrieved','time_period','scope','status',\n",
    "            'well_presented', 'baseline_analysis', 'notes', 'plan_path','file_type','website_url',\n",
    "            'authority_code', 'authority_type', 'wdtk_id',\n",
    "           'mapit_area_code', 'country', 'gss_code', 'county', 'region',\n",
    "           'population', 'unfound','credit','homepage_mention', 'dedicated_page',\n",
    "            'plan_due','title','title_checked','twitter_url','twitter_name','url','council']\n",
    "df = df.drop(drop_cols,axis=1)\n",
    "corpus = df[df['text'].notna()]"
   ]
  },
  {
   "cell_type": "markdown",
   "metadata": {},
   "source": [
    "# Better cleaning"
   ]
  },
  {
   "cell_type": "code",
   "execution_count": 10,
   "metadata": {
    "scrolled": false
   },
   "outputs": [
    {
     "name": "stderr",
     "output_type": "stream",
     "text": [
      "/tmp/ipykernel_193/3369171658.py:1: SettingWithCopyWarning: \n",
      "A value is trying to be set on a copy of a slice from a DataFrame.\n",
      "Try using .loc[row_indexer,col_indexer] = value instead\n",
      "\n",
      "See the caveats in the documentation: https://pandas.pydata.org/pandas-docs/stable/user_guide/indexing.html#returning-a-view-versus-a-copy\n",
      "  corpus['text'] = corpus['text'].apply(clean2)\n"
     ]
    }
   ],
   "source": [
    "corpus['text'] = corpus['text'].apply(clean2)"
   ]
  },
  {
   "cell_type": "code",
   "execution_count": 4,
   "metadata": {},
   "outputs": [],
   "source": [
    "corpus.to_csv('../data/processed/text-and-sentences.csv')"
   ]
  },
  {
   "cell_type": "markdown",
   "metadata": {},
   "source": [
    "## Sentence tokenization"
   ]
  },
  {
   "cell_type": "markdown",
   "metadata": {},
   "source": [
    "Worth removing numbers before doing so"
   ]
  },
  {
   "cell_type": "code",
   "execution_count": 11,
   "metadata": {},
   "outputs": [
    {
     "name": "stderr",
     "output_type": "stream",
     "text": [
      "/tmp/ipykernel_193/843998945.py:4: SettingWithCopyWarning: \n",
      "A value is trying to be set on a copy of a slice from a DataFrame.\n",
      "Try using .loc[row_indexer,col_indexer] = value instead\n",
      "\n",
      "See the caveats in the documentation: https://pandas.pydata.org/pandas-docs/stable/user_guide/indexing.html#returning-a-view-versus-a-copy\n",
      "  corpus['text'] = corpus['text'].apply(clean3)\n"
     ]
    }
   ],
   "source": [
    "def clean3(text):\n",
    "    text = re.sub(\"[^a-z. ]\",'',text)\n",
    "    return text\n",
    "corpus['text'] = corpus['text'].apply(clean3)"
   ]
  },
  {
   "cell_type": "code",
   "execution_count": 12,
   "metadata": {},
   "outputs": [
    {
     "data": {
      "text/html": [
       "<div>\n",
       "<style scoped>\n",
       "    .dataframe tbody tr th:only-of-type {\n",
       "        vertical-align: middle;\n",
       "    }\n",
       "\n",
       "    .dataframe tbody tr th {\n",
       "        vertical-align: top;\n",
       "    }\n",
       "\n",
       "    .dataframe thead th {\n",
       "        text-align: right;\n",
       "    }\n",
       "</style>\n",
       "<table border=\"1\" class=\"dataframe\">\n",
       "  <thead>\n",
       "    <tr style=\"text-align: right;\">\n",
       "      <th></th>\n",
       "      <th>text</th>\n",
       "    </tr>\n",
       "  </thead>\n",
       "  <tbody>\n",
       "    <tr>\n",
       "      <th>0</th>\n",
       "      <td>aberdeen city council energy and climate plan ...</td>\n",
       "    </tr>\n",
       "    <tr>\n",
       "      <th>1</th>\n",
       "      <td>aberdeen adapts aberdeens climate adaptation f...</td>\n",
       "    </tr>\n",
       "    <tr>\n",
       "      <th>2</th>\n",
       "      <td>council climate change plan   towards a net ze...</td>\n",
       "    </tr>\n",
       "    <tr>\n",
       "      <th>3</th>\n",
       "      <td>a climate positive city at the heart of the gl...</td>\n",
       "    </tr>\n",
       "    <tr>\n",
       "      <th>5</th>\n",
       "      <td>carbon neutral plan working towards the  targe...</td>\n",
       "    </tr>\n",
       "    <tr>\n",
       "      <th>...</th>\n",
       "      <td>...</td>\n",
       "    </tr>\n",
       "    <tr>\n",
       "      <th>668</th>\n",
       "      <td>wychavon   intelligently green plan contents w...</td>\n",
       "    </tr>\n",
       "    <tr>\n",
       "      <th>670</th>\n",
       "      <td>climate change action plan council operations ...</td>\n",
       "    </tr>\n",
       "    <tr>\n",
       "      <th>671</th>\n",
       "      <td>climate change action plan wider borough our g...</td>\n",
       "    </tr>\n",
       "    <tr>\n",
       "      <th>680</th>\n",
       "      <td>restore revive thrive our environment climate ...</td>\n",
       "    </tr>\n",
       "    <tr>\n",
       "      <th>685</th>\n",
       "      <td>zero carbon london a .c compatible plan decem...</td>\n",
       "    </tr>\n",
       "  </tbody>\n",
       "</table>\n",
       "<p>502 rows × 1 columns</p>\n",
       "</div>"
      ],
      "text/plain": [
       "                                                  text\n",
       "0    aberdeen city council energy and climate plan ...\n",
       "1    aberdeen adapts aberdeens climate adaptation f...\n",
       "2    council climate change plan   towards a net ze...\n",
       "3    a climate positive city at the heart of the gl...\n",
       "5    carbon neutral plan working towards the  targe...\n",
       "..                                                 ...\n",
       "668  wychavon   intelligently green plan contents w...\n",
       "670  climate change action plan council operations ...\n",
       "671  climate change action plan wider borough our g...\n",
       "680  restore revive thrive our environment climate ...\n",
       "685   zero carbon london a .c compatible plan decem...\n",
       "\n",
       "[502 rows x 1 columns]"
      ]
     },
     "execution_count": 12,
     "metadata": {},
     "output_type": "execute_result"
    }
   ],
   "source": [
    "corpus"
   ]
  },
  {
   "cell_type": "code",
   "execution_count": 13,
   "metadata": {},
   "outputs": [
    {
     "name": "stderr",
     "output_type": "stream",
     "text": [
      "/tmp/ipykernel_122613/170715853.py:5: SettingWithCopyWarning: \n",
      "A value is trying to be set on a copy of a slice from a DataFrame.\n",
      "Try using .loc[row_indexer,col_indexer] = value instead\n",
      "\n",
      "See the caveats in the documentation: https://pandas.pydata.org/pandas-docs/stable/user_guide/indexing.html#returning-a-view-versus-a-copy\n",
      "  corpus['sentences'] = corpus['text'].apply(sent_tokenize)\n"
     ]
    }
   ],
   "source": [
    "# nltk.download('punkt')\n",
    "# nltk.download(\"stopwords\")\n",
    "from nltk.tokenize import sent_tokenize, word_tokenize\n",
    "\n",
    "corpus['sentences'] = corpus['text'].apply(sent_tokenize)"
   ]
  },
  {
   "cell_type": "code",
   "execution_count": null,
   "metadata": {},
   "outputs": [],
   "source": []
  },
  {
   "cell_type": "code",
   "execution_count": 17,
   "metadata": {},
   "outputs": [],
   "source": [
    "sentence_corpus = corpus['sentences'].sum()\n",
    "len(sentence_corpus) #there are ~55000 sentences in the corpus"
   ]
  },
  {
   "cell_type": "code",
   "execution_count": 47,
   "metadata": {},
   "outputs": [
    {
     "data": {
      "text/plain": [
       "['one city climate strategystrategy forcarbon neutral climate resilient bristol by 2030 bristol one city climate strategystrategy forcarbon neutral climate resilient bristol by 2030 foreword from the one city environmental sustainability board we are facingclimate in the one city plan bristol this strategy sets the vision for where this strategy iscall to action.',\n",
       " 'committed to becoming carbon we need to be in 2030 based on we call on you as people who live emergency.',\n",
       " 'ascity neutral and climate resilient by 2030. sound science.',\n",
       " 'we would like to thank work visit and invest in bristol to join we need to act now to to achieve this over the next decade our colleagues on bristols advisory with us on this exciting decade of we need to radically rethink how we committee on climate change for transformation.',\n",
       " 'reduce direct and indirect live work and invest in the city.',\n",
       " 'their review and challenge of the we will engage widely to understand evidence for bristol.',\n",
       " 'carbon emissions to net we also need action regionally how we can work together to achieve nationally and internationally.',\n",
       " 'we recognise that achieving our vision the ambitions set out in this strategy.',\n",
       " 'zero.',\n",
       " 'we need to prepare will not be easy.',\n",
       " 'there are entrenched however this does not mean that any this provides an opportunity to take and adapt to deal withcollaborative inclusive and citywide market and wider forces that will organisation or individual should wait support existing fossilfuel dependent forplan to be shared.',\n",
       " 'this strategy the projected impacts of approach to make thisfair transition.',\n",
       " 'consumptionbased systems.',\n",
       " 'we gives the cityfocus and direction and as bristols environmental will need to show strong leadership provides the framework within which climate change.',\n",
       " 'sustainability board we are proud to create opportunities for all to we can each take responsibility and to lead this transition for the city.',\n",
       " 'participate in the benefits of change work together to transform the city.',\n",
       " 'representingrange of organisations with its costs shared fairly.',\n",
       " 'we have come together to set out our we have an exciting opportunity to shared vision in this strategy.',\n",
       " 'address the challenge of climate given bristols strong history in change whilst also delivering new delivering climate action we are homes reducing inequalities creating excited to work hand in hand acrosscity with more green spaces places the city to continue to lead the way.',\n",
       " 'for our children to play cleaner air we will move faster than the national jobs and opportunities for all.',\n",
       " 'average learning with other cities on cities are complex places.',\n",
       " 'we know our journey.',\n",
       " 'that no single organisation nor even the organisations that make up the bristols one city environmental environmental sustainability board sustainability board february 2020 can deliver the scale and pace of change we need alone.',\n",
       " 'environment theenvironmentboard bristol one city climate strategystrategy forcarbon neutral climate resilient bristol by 2030 foreword from the one city environmental sustainability board this strategy is.',\n",
       " 'this strategy is not.',\n",
       " 'strategy to setshared delivery plan which vision for bristol in 2030. details the exact route coordinated by bristols for the city to 2030. one city environmental detailed delivery plans sustainability board on will be developed and behalf of the city office consulted on.',\n",
       " 'and the one city boards.',\n",
       " 'owned by any one strategy for the city organisation such that will need the bristol city council.',\n",
       " 'we collaboration of multiple will need people from partners across the city to across the city to meet reach our city goals.',\n",
       " 'its goals.',\n",
       " 'built on the currently perfect.',\n",
       " 'we are facing available evidenceclimate emergency base.',\n",
       " 'there are gaps in and we have developed understanding and more this strategy atpace work will need to be commensurate with the undertaken over time.',\n",
       " 'challenge.',\n",
       " 'integrated.',\n",
       " 'it covers both static.',\n",
       " 'as the world direct and indirect carbon around us evolves in environmental sustainability board emissions as well as terms of knowledge climate resilience.',\n",
       " 'legislation and policy technology and the market we will adapt to take advantage of these opportunities.',\n",
       " 'bristol one city climate strategystrategy forcarbon neutral climate resilient bristol by 2030 executive summary bristols climate vision bristols strategy is built onstrong bristols climate strategy 3. heat decarbonisation.',\n",
       " 'in 2030 bristol is carbon neutral and evidence base settingclear pathway the action that is needed to achieve implementingcarbon neutral climate resilient.',\n",
       " 'we have collectively to carbon neutrality for our direct our ambition is complex and multi energy method for heating and hot achievedfair and inclusive transition emissions within bristol.',\n",
       " 'our evidence faceted.',\n",
       " 'water.',\n",
       " 'this is one of the areas that capturing the opportunities of new helps us to start the journey for will be supported by city leap energy the strategy details ten key areas jobs and investment improved health reducing our wider emissions and partnershipradical new approach where climate action is needed to wellbeing and education andbetter enhancing our resilience to future to delivering energy infrastructure in achieve the vision for bristol in 2030. environment for local people.',\n",
       " 'we climate change.',\n",
       " 'the challenge is bristol across each of these we need action have helped lead the way tosafer huge and we recognise that this is 4. electricity.',\n",
       " 'make our electricity use at every level.',\n",
       " 'these are.',\n",
       " 'global climate.',\n",
       " 'just the start.',\n",
       " 'as our knowledge base as smart and flexible as possible to grows and as the world around us 1. transport.',\n",
       " 'switching to significantly support electricity decarbonisation introduction and approach changes we will adapt and evolve to more walking cycling and zero nationally maximise local renewable bristols environmental sustainability deliver the best outcomes for the city.',\n",
       " 'carbon public transport modes energy generation and increase board has come together to develop converting the remaining vehicles taking action on climate change system resilienceone city climate strategy.',\n",
       " 'to zero carbon fuels transforming presentsgreat opportunity for 5. consumption and waste.',\n",
       " 'freight aviation and shipping we are building on bristols challenges bristol supporting our one city plan responsible buying of goods and and opportunities including the ambition to becomefair healthy 2. buildings.',\n",
       " 'retrofitting and building services alongside zero carbon from inequalities in the city but also the and sustainable city.city of hope them to become carbon neutral and waste management existing climate action and the and aspiration where everyone can resilient tochanging climate calling on central government to develop 6. business and the economy.',\n",
       " 'bristol networks and knowledge in the city.',\n",
       " 'share in its success.supportive planning framework to businesses move to be carbon neutral however in this strategy we are deliver this and climate resilient capturing job describingstep change.',\n",
       " 'opportunities for all through the we need urgent and transformative transition action in response to this complex 7. public voluntary community and critical global challenge.',\n",
       " 'social enterprise services.',\n",
       " 'carbon neutral public and vcse services and supply chains that are also prepared for future climate conditions and hazards bristol one city climate strategystrategy forcarbon neutral climate resilient bristol by 2030 executive summary 8. natural environment.',\n",
       " 'restoring protecting and 1. transport enhancing these spaces and wildlife within them as the climate continues to change 9. food.resilient supply chain with food and drink produced locally sustainably and moving tomore plant based diet 10. infrastructure interdependencies 2. buildings 10. infrastructure interdependencies.',\n",
       " 'collaboration in running vital services to the city such as water transport waste ict and energy to improve their climate resilience data and embed carbon neutrality across different systems.',\n",
       " '3. heat across all these key areas there will need to be the 9. food decarbonisation skills funding national action and local leadership data infrastructure funding co2 infrastructure and engagement to enable the action to happen.',\n",
       " 'radical system changes will be required across all of these areas at every level.',\n",
       " 'engagement national delivery monitoring and review 8. natural action 4. electricity this strategy is for all of us to deliver and nobody need environment wait for permission to take action.',\n",
       " 'however in recognition that we need coordinated action skills in some areas to deliver the scale of change required the city office and the environmental sustainability board will 7. public hospital 5. consumption take the lead in coordinating the development of delivery services waste plans andclear framework for monitoring and review.',\n",
       " 'work has already started so we will hit the ground running.',\n",
       " 'we will engage widely and work withwide range of organisations community groups and individuals to transform bristol.',\n",
       " '6. business the economy bristol one city climate strategystrategy forcarbon neutral climate resilient bristol by 2030 contents 1. vision and principles.',\n",
       " 'the vision and principles that inform and guide our strategy.',\n",
       " '2. introduction and approach.',\n",
       " 'setting out our approach and evidence base.',\n",
       " '3. challenges and opportunities for bristol.',\n",
       " 'setting out the context that this strategy will be delivered in our city of passion and paradoxes.',\n",
       " '4. our climate strategy.',\n",
       " 'an overview of the strategys structure.',\n",
       " '4a.',\n",
       " 'enabling conditions for change.',\n",
       " 'the radical system changes that we need to deliver our strategy.',\n",
       " '4b.',\n",
       " 'delivery themes.',\n",
       " 'the key areas where climate action is required in the city.',\n",
       " '5. monitoring and review.',\n",
       " 'our approach to monitoring and review of the strategy.',\n",
       " '6. delivery.',\n",
       " 'our initial approach to planning and implementation for this decade of transformation.',\n",
       " 'bristol one city climate strategystrategy forcarbon neutral climate resilient bristol by 2030 1. vision and principles bristols climate vision in 2030 bristol is carbon neutral and climate resilient.',\n",
       " 'we have collectively achievedfair and inclusive transition capturing the opportunities of new jobs and investment improved health wellbeing and education andbetter environment for local people.',\n",
       " 'we have helped lead the way tosafer global climate.',\n",
       " 'this vision is supported bynumber of key principles.',\n",
       " 'fair collaborative transformative learning evidencebased achievingjust transition we are all partners bristol will beglobal this strategy will evolve our strategy will build is central to our strategy with rights and leader for rapid and radical as we deliver it learning on robust evidence from and critical to it achieving responsibilities to deliver city action to address the as we go and sharing leading science and by successful outcomes.',\n",
       " 'this strategy for bristol climate emergency taking that learning within the harnessing collective this means maintaining working inclusively and the initiative to create city building adaptive intelligence within thedemocratic mandate collaboratively within conditions for success and capacity innovating and city to understand how ensuring there are the city as well as across supporting others on their learning with other cities systems are performing.',\n",
       " 'opportunities for all to boundaries.',\n",
       " 'good journey.',\n",
       " 'we will embrace the and regions and adapting we recognise the global participate in the benefits communication will opportunities that come with as conditions change.',\n",
       " 'goal for the world to of change with its costs be central to effective beingfirstmover in the uk limit warming to 1.5oc shared fairly.',\n",
       " 'collaboration.',\n",
       " 'and influence the national and acknowledge our and international agenda.',\n",
       " 'responsibility to act.',\n",
       " 'bristol one city climate strategystrategy forcarbon neutral climate resilient bristol by 2030 2. introduction and approach global warming and climate change global warming has already impacted in addition to the climate it is essential that we address both present us with an urgent challenge natural and human systems through emergency we are also experiencing climate mitigation and adaptation we need to address.',\n",
       " 'to solve this increased flooding devastating unprecedented global change due together as an integrated response as challenge there is the opportunity to wildfires storms loss of biodiversity to land and sea use change direct no single option is sufficient by itself.',\n",
       " 'takecollaborative citywide approach and extreme drought.',\n",
       " 'exploitation of species pollution and integrated consideration of adaptation to make transformational change.',\n",
       " 'climate related risks to the invasive alien species.',\n",
       " 'human actions and mitigation will allow us to identify as the environmental sustainability environment health livelihoods food threaten more species with global interdependencies be more efficient board we have developed this security raw materials water supply extinction than ever before with the and minimise risk.',\n",
       " 'strategy with partners based on and economic growth will rise even sixth mass extinction already underway.',\n",
       " 'the world is rapidly changing and robust evidence.',\n",
       " 'if we manage to limit change to 1.5c this strategy providesway forward there is uncertainty over what the and will be felt differently in different for bristol to respond to the climate future will look like.',\n",
       " 'climate change we are facingclimate regions.',\n",
       " 'populations most at risk are emergency.',\n",
       " 'we explore opportunities is likely to impact the city directly and ecological emergency marginalised disadvantaged and to maximise benefits to the ecological though local extreme weather events vulnerable.',\n",
       " 'in bristol some of our emergency butfull response will be and through changes further afield human activities are estimated to most deprived wards will be the most developed separately.',\n",
       " 'which may impact the city indirectly have caused 1c of global warming vulnerable to the impacts of climate this isclimate strategy for bristol to by impacting the economy and the above preindustrial levels.',\n",
       " 'we are change including areas like lawrence respond to both.',\n",
       " 'supply of goods and services such as already seeing devastating impacts hill where flood risk is also higher.',\n",
       " 'food or public services.',\n",
       " 'mitigation.',\n",
       " 'the causes of climate of 1c warming this is expected we need to plan for adapt and build we urgently need to transform change e.g.',\n",
       " 'reducing greenhouse to get worse.',\n",
       " 'the science on the our resilience for projected future we are facing twin emergencies.gas emissions and improving climate emergency is clear we need risk inway that provides wider co climate emergency and an ecological carbon sinks and urgent action to reduce our carbon benefits so that no matter what the emissions to limit global temperature emergency.',\n",
       " 'adaptation.',\n",
       " 'addressing the future looks like our city will be better rise to below 1.5oc and so prevent potential impacts of climate change for our citizens.',\n",
       " 'this plan is for 2030 disastrous impacts.',\n",
       " 'we also need to e.g.',\n",
       " 'actions to adapt to floods when we aim to have the plans and prepare forchanging climate.',\n",
       " 'storms or heatwaves and ongoing mitigation in place or in progress to']"
      ]
     },
     "execution_count": 47,
     "metadata": {},
     "output_type": "execute_result"
    }
   ],
   "source": [
    "corpus.sentences.sample(n=10).iloc[0]"
   ]
  },
  {
   "cell_type": "markdown",
   "metadata": {},
   "source": [
    "## Storing and Loading embeddings in sBERT\n",
    "Start with the most general pretrained model"
   ]
  },
  {
   "cell_type": "code",
   "execution_count": 56,
   "metadata": {},
   "outputs": [],
   "source": [
    "from sentence_transformers import SentenceTransformer\n",
    "import pickle\n",
    "\n",
    "model = SentenceTransformer('all-MiniLM-L6-v2')\n",
    "sentences = sentence_corpus\n",
    "\n",
    "\n",
    "embeddings = model.encode(sentences) #perhaps need to add convert_to_tensor = True\n",
    "\n",
    "#Store sentences & embeddings on disc\n",
    "with open('../data/processed/embeddings.pkl', \"wb\") as fOut:\n",
    "    pickle.dump({'sentences': sentences, 'embeddings': embeddings}, fOut, protocol=pickle.HIGHEST_PROTOCOL)\n"
   ]
  },
  {
   "cell_type": "code",
   "execution_count": 6,
   "metadata": {},
   "outputs": [],
   "source": [
    "#Load sentences & embeddings from disc\n",
    "with open('../data/processed/embeddings.pkl', \"rb\") as fIn:\n",
    "    stored_data = pickle.load(fIn)\n",
    "    stored_sentences = stored_data['sentences']\n",
    "    stored_embeddings = stored_data['embeddings']"
   ]
  },
  {
   "cell_type": "code",
   "execution_count": 7,
   "metadata": {},
   "outputs": [],
   "source": [
    "from sentence_transformers import util\n",
    "\n",
    "cosine_scores = util.cos_sim(stored_embeddings, stored_embeddings)"
   ]
  },
  {
   "cell_type": "code",
   "execution_count": 8,
   "metadata": {},
   "outputs": [
    {
     "data": {
      "text/plain": [
       "tensor([[1.0000, 0.5324, 0.4346,  ..., 0.2506, 0.4048, 0.2367],\n",
       "        [0.5324, 1.0000, 0.5131,  ..., 0.1765, 0.2188, 0.2319],\n",
       "        [0.4346, 0.5131, 1.0000,  ..., 0.2407, 0.2976, 0.3638],\n",
       "        ...,\n",
       "        [0.2506, 0.1765, 0.2407,  ..., 1.0000, 0.3145, 0.1501],\n",
       "        [0.4048, 0.2188, 0.2976,  ..., 0.3145, 1.0000, 0.1995],\n",
       "        [0.2367, 0.2319, 0.3638,  ..., 0.1501, 0.1995, 1.0000]])"
      ]
     },
     "execution_count": 8,
     "metadata": {},
     "output_type": "execute_result"
    }
   ],
   "source": [
    "cosine_scores"
   ]
  },
  {
   "cell_type": "code",
   "execution_count": null,
   "metadata": {},
   "outputs": [],
   "source": [
    "pairs = []\n",
    "for i in range(len(cosine_scores)-1):\n",
    "    for j in range(i+1, len(cosine_scores)):\n",
    "        pairs.append({'index': [i, j], 'score': cosine_scores[i][j]})\n",
    "\n",
    "#Sort scores in decreasing order\n",
    "pairs = sorted(pairs, key=lambda x: x['score'], reverse=True)\n",
    "\n",
    "for pair in pairs[0:10]:\n",
    "    i, j = pair['index']\n",
    "    print(\"{} \\t\\t {} \\t\\t Score: {:.4f}\".format(sentences[i], sentences[j], pair['score']))"
   ]
  },
  {
   "cell_type": "markdown",
   "metadata": {},
   "source": [
    "## Paraphrase mining \n",
    "- We have ~ 50 000 sentences so current approach too slow"
   ]
  },
  {
   "cell_type": "code",
   "execution_count": 21,
   "metadata": {},
   "outputs": [],
   "source": [
    "model = SentenceTransformer('all-MiniLM-L6-v2')\n",
    "sentences = sentence_corpus\n",
    "\n",
    "\n",
    "paraphrases = util.paraphrase_mining(model, sentences, corpus_chunk_size=10000,query_chunk_size=1000, top_k=20)"
   ]
  },
  {
   "cell_type": "code",
   "execution_count": 33,
   "metadata": {},
   "outputs": [
    {
     "name": "stdout",
     "output_type": "stream",
     "text": [
      "note. \t note. \t Score: 1.0000\n",
      "note. \t note. \t Score: 1.0000\n",
      "the for high quality sustainable force dec suffolk design project design. \t the for high quality sustainable force dec suffolk design project design. \t Score: 1.0000\n",
      "challengechallengechallengeulev infrastructure. \t challengechallengechallengeulev infrastructure. \t Score: 1.0000\n",
      "report to. \t report to. \t Score: 1.0000\n",
      "the principal conurbation is bracknell itself with secondary population centres built up around the historic towns and villages of sandhurst crowthorne to the south binfield warfield and winkfield to the north and north ascot to the east. \t the principal conurbation is bracknell itself with secondary population centres built up around the historic towns and villages of sandhurst crowthorne to the south binfield warfield and winkfield to the north and north ascot to the east. \t Score: 1.0000\n",
      "such partners will not only help us to deliver but will take the responsibility for achieving targets to help close the greenhouse gas emissions gap we are all facing up to. \t such partners will not only help us to deliver but will take the responsibility for achieving targets to help close the greenhouse gas emissions gap we are all facing up to. \t Score: 1.0000\n",
      "atvery high level the objective of sustainable development can be summarised as meeting the needs of the present without compromising the ability of future generations to meet their own needs. \t atvery high level the objective of sustainable development can be summarised as meeting the needs of the present without compromising the ability of future generations to meet their own needs. \t Score: 1.0000\n",
      "climate change. \t climate change. \t Score: 1.0000\n",
      "change. \t change. \t Score: 1.0000\n"
     ]
    }
   ],
   "source": [
    "for paraphrase in paraphrases[20:30]:\n",
    "    score, i, j = paraphrase\n",
    "    print(\"{} \\t {} \\t Score: {:.4f}\".format(sentences[i], sentences[j], score))"
   ]
  },
  {
   "cell_type": "code",
   "execution_count": null,
   "metadata": {},
   "outputs": [],
   "source": []
  }
 ],
 "metadata": {
  "kernelspec": {
   "display_name": "Python [conda env:Python3] *",
   "language": "python",
   "name": "conda-env-Python3-py"
  },
  "language_info": {
   "codemirror_mode": {
    "name": "ipython",
    "version": 3
   },
   "file_extension": ".py",
   "mimetype": "text/x-python",
   "name": "python",
   "nbconvert_exporter": "python",
   "pygments_lexer": "ipython3",
   "version": "3.9.15"
  }
 },
 "nbformat": 4,
 "nbformat_minor": 2
}
